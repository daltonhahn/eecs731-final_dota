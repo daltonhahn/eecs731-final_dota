{
 "cells": [
  {
   "cell_type": "markdown",
   "metadata": {},
   "source": [
    "# Dota 2 - Regression Analysis\n",
    "\n",
    "* Trying to predict the total score of two teams based full match data"
   ]
  },
  {
   "cell_type": "markdown",
   "metadata": {},
   "source": [
    "# RUN THIS BLOCK ONCE"
   ]
  },
  {
   "cell_type": "code",
   "execution_count": 1,
   "metadata": {},
   "outputs": [],
   "source": [
    "%%capture\n",
    "!conda update --all -y\n",
    "!pip install --upgrade setuptools\n",
    "!pip install xgboost\n",
    "!pip install keras\n",
    "!pip install tensorflow"
   ]
  },
  {
   "cell_type": "code",
   "execution_count": 2,
   "metadata": {},
   "outputs": [
    {
     "name": "stderr",
     "output_type": "stream",
     "text": [
      "Using TensorFlow backend.\n"
     ]
    }
   ],
   "source": [
    "# API IMPORTS\n",
    "from __future__ import print_function\n",
    "import time\n",
    "from pprint import pprint\n",
    "import json\n",
    "import ast\n",
    "from sklearn.exceptions import DataConversionWarning\n",
    "\n",
    "\n",
    "# BASIC IMPORTS\n",
    "import warnings\n",
    "warnings.filterwarnings(\"ignore\", category=DataConversionWarning)\n",
    "import pandas as pd\n",
    "import numpy as np\n",
    "import datetime as dt\n",
    "import seaborn as sns\n",
    "import matplotlib.pyplot as plt\n",
    "from math import sqrt\n",
    "from statistics import mean, stdev\n",
    "from scipy.stats import iqr\n",
    "\n",
    "#SKLEARN IMPORTS\n",
    "from sklearn.model_selection import cross_val_score\n",
    "from sklearn.model_selection import KFold\n",
    "from sklearn.preprocessing import  MinMaxScaler\n",
    "from sklearn.pipeline import Pipeline\n",
    "from sklearn.model_selection import train_test_split\n",
    "from sklearn.metrics import accuracy_score\n",
    "from sklearn.metrics import mean_squared_error\n",
    "from sklearn.linear_model import LinearRegression\n",
    "from sklearn.ensemble import RandomForestRegressor\n",
    "\n",
    "# KERAS/TENSORFLOW IMPORTS\n",
    "from keras.models import Sequential\n",
    "from keras.layers import Dense\n",
    "from keras.wrappers.scikit_learn import KerasRegressor\n",
    "from keras.callbacks import EarlyStopping\n",
    "\n",
    "\n",
    "# XGBOOST IMPORTS\n",
    "from xgboost import XGBClassifier"
   ]
  },
  {
   "cell_type": "markdown",
   "metadata": {},
   "source": [
    "# Basic Stats"
   ]
  },
  {
   "cell_type": "code",
   "execution_count": 3,
   "metadata": {},
   "outputs": [],
   "source": [
    "def simple_stats(df):\n",
    "    sorted(df['total_score'])\n",
    "    q1, q3= np.percentile(df['total_score'],[25,75])\n",
    "    inter_range = iqr(df['total_score'])\n",
    "    lower_bound = q1 -(1.5 * inter_range) \n",
    "    upper_bound = q3 +(1.5 * inter_range) \n",
    "    print(\"IQR: \", inter_range)\n",
    "    print(\"LOW: \", lower_bound)\n",
    "    print(\"HIGH: \", upper_bound)\n",
    "    print(\"Q1: \", q1)\n",
    "    print(\"Q3: \", q3)\n",
    "    \n",
    "    \n",
    "    plt.violinplot(df['total_score'], showmedians=True)\n",
    "    plt.ylabel(\"Total Score\")\n",
    "    plt.xticks([])\n",
    "    plt.show()"
   ]
  },
  {
   "cell_type": "markdown",
   "metadata": {},
   "source": [
    "## Compute Accuracy with Range"
   ]
  },
  {
   "cell_type": "code",
   "execution_count": 4,
   "metadata": {},
   "outputs": [],
   "source": [
    "def accuracy_calc(yTest, predictions, spread):\n",
    "    num_tests = yTest.size\n",
    "    correct = 0\n",
    "    \n",
    "    for l1,l2 in zip(yTest, predictions):\n",
    "        if abs(l1 - l2) < spread:\n",
    "            correct = correct + 1\n",
    "            \n",
    "    return correct/num_tests"
   ]
  },
  {
   "cell_type": "markdown",
   "metadata": {},
   "source": [
    "# Linear Regression"
   ]
  },
  {
   "cell_type": "code",
   "execution_count": 5,
   "metadata": {},
   "outputs": [],
   "source": [
    "def lin_reg(df):\n",
    "    x = df.drop(['total_score'], axis=1)\n",
    "    y = df['total_score']\n",
    "\n",
    "    xTrain, xTest, yTrain, yTest = train_test_split(x, y, test_size = 2/5)\n",
    "    linearRegressor = LinearRegression()\n",
    "    linearRegressor.fit(xTrain, yTrain)\n",
    "    yPrediction = linearRegressor.predict(xTest)\n",
    "\n",
    "    predictions = [round(value) for value in yPrediction]\n",
    "\n",
    "    accuracy = accuracy_score(yTest, predictions)\n",
    "    print(\"LINEAR REGRESSION\")\n",
    "    print(\"---------------------------------\")\n",
    "    print(\"Exact Answer Accuracy: %.2f%%\" % (accuracy * 100.0))\n",
    "    print(\"Accuracy with +/- 5 Spread: %.2f%%\" % (accuracy_calc(yTest, yPrediction, 5) * 100.0))\n",
    "    print(\"Accuracy with +/- 10 Spread: %.2f%%\" % (accuracy_calc(yTest, yPrediction, 10) * 100.0))\n",
    "    print(\"Accuracy with +/- 15 Spread: %.2f%%\" % (accuracy_calc(yTest, yPrediction, 15) * 100.0))\n",
    "    print(\"Root Mean Squared Error: %.2f\" % sqrt(mean_squared_error(yTest, predictions)))\n",
    "    print()\n",
    "    print()"
   ]
  },
  {
   "cell_type": "markdown",
   "metadata": {},
   "source": [
    "# Random Forest Regression"
   ]
  },
  {
   "cell_type": "code",
   "execution_count": 6,
   "metadata": {},
   "outputs": [],
   "source": [
    "def rand_for(df):\n",
    "    x = df.drop(['total_score'], axis=1)\n",
    "    y = df['total_score']\n",
    "\n",
    "    xTrain, xTest, yTrain, yTest = train_test_split(x, y, test_size = 2/5)\n",
    "    forestRegressor = RandomForestRegressor(n_estimators=2000, max_depth=10)\n",
    "    forestRegressor.fit(xTrain, yTrain)\n",
    "    yPrediction = forestRegressor.predict(xTest)\n",
    "\n",
    "    predictions = [round(value) for value in yPrediction]\n",
    "\n",
    "    accuracy = accuracy_score(yTest, predictions)\n",
    "    print(\"RANDOM FOREST REGRESSION\")\n",
    "    print(\"---------------------------------\")\n",
    "    print(\"Accuracy: %.2f%%\" % (accuracy * 100.0))\n",
    "    print(\"Accuracy with +/- 5 Spread: %.2f%%\" % (accuracy_calc(yTest, yPrediction, 5) * 100.0))\n",
    "    print(\"Accuracy with +/- 10 Spread: %.2f%%\" % (accuracy_calc(yTest, yPrediction, 10) * 100.0))\n",
    "    print(\"Accuracy with +/- 15 Spread: %.2f%%\" % (accuracy_calc(yTest, yPrediction, 15) * 100.0))\n",
    "    print(\"Root Mean Squared Error: %.2f\" % sqrt(mean_squared_error(yTest, predictions)))\n",
    "    print()\n",
    "    print()"
   ]
  },
  {
   "cell_type": "markdown",
   "metadata": {},
   "source": [
    "# XGBoost"
   ]
  },
  {
   "cell_type": "code",
   "execution_count": 7,
   "metadata": {},
   "outputs": [],
   "source": [
    "def xg_reg(df):\n",
    "    x = df.drop(['total_score'], axis=1)\n",
    "    y = df['total_score']\n",
    "\n",
    "    xTrain, xTest, yTrain, yTest = train_test_split(x, y, test_size = 2/5)\n",
    "\n",
    "    # fit model no training data\n",
    "    model = XGBClassifier(scale_pos_weight=1,\n",
    "                          learning_rate=0.01,  \n",
    "                          subsample = 0.8,\n",
    "                          objective='reg:squarederror', \n",
    "                          n_estimators=2000, \n",
    "                          reg_alpha = 0.3,\n",
    "                          max_depth=40, \n",
    "                          gamma=10)\n",
    "\n",
    "    model.fit(xTrain, yTrain)\n",
    "\n",
    "    # make predictions for test data\n",
    "    yPrediction = model.predict(xTest)\n",
    "    predictions = [round(value) for value in yPrediction]\n",
    "\n",
    "    # evaluate predictions\n",
    "    accuracy = accuracy_score(yTest, predictions)\n",
    "    print(\"XGBOOST REGRESSION\")\n",
    "    print(\"---------------------------------\")\n",
    "    print(\"Accuracy: %.2f%%\" % (accuracy * 100.0))\n",
    "    print(\"Accuracy with +/- 5 Spread: %.2f%%\" % (accuracy_calc(yTest, yPrediction, 5) * 100.0))\n",
    "    print(\"Accuracy with +/- 10 Spread: %.2f%%\" % (accuracy_calc(yTest, yPrediction, 10) * 100.0))\n",
    "    print(\"Accuracy with +/- 15 Spread: %.2f%%\" % (accuracy_calc(yTest, yPrediction, 15) * 100.0))\n",
    "    print(\"Root Mean Squared Error: %.2f\" % sqrt(mean_squared_error(yTest, predictions)))\n",
    "    print()\n",
    "    print()"
   ]
  },
  {
   "cell_type": "markdown",
   "metadata": {},
   "source": [
    "# Neural Network\n",
    "* Inspiration from: https://machinelearningmastery.com/regression-tutorial-keras-deep-learning-library-python/"
   ]
  },
  {
   "cell_type": "code",
   "execution_count": 8,
   "metadata": {},
   "outputs": [],
   "source": [
    "def larger_model():\n",
    "    # create model\n",
    "    model = Sequential()\n",
    "    model.add(Dense(10, input_dim=10, kernel_initializer='normal', activation='relu'))\n",
    "    model.add(Dense(6, kernel_initializer='normal', activation='relu'))\n",
    "    model.add(Dense(1, kernel_initializer='normal'))\n",
    "    # Compile model\n",
    "    model.compile(loss='mean_squared_error', optimizer='adam')\n",
    "    return model"
   ]
  },
  {
   "cell_type": "code",
   "execution_count": 9,
   "metadata": {},
   "outputs": [],
   "source": [
    "def model_2():\n",
    "    # create model\n",
    "    model = Sequential()\n",
    "    model.add(Dense(10, input_dim=10, kernel_initializer='normal', activation='relu'))\n",
    "    model.add(Dense(50, kernel_initializer='normal', activation='relu'))\n",
    "    model.add(Dense(75, kernel_initializer='normal', activation='relu'))\n",
    "    model.add(Dense(15, kernel_initializer='normal', activation='relu'))\n",
    "    model.add(Dense(1, kernel_initializer='normal'))\n",
    "    # Compile model\n",
    "    model.compile(loss='mean_squared_error', optimizer='adam')\n",
    "    return model"
   ]
  },
  {
   "cell_type": "code",
   "execution_count": 10,
   "metadata": {},
   "outputs": [],
   "source": [
    "def nn_reg(df):\n",
    "    x = df.drop(['patch','total_score'], axis=1)\n",
    "    y = df['total_score'].values\n",
    "    \n",
    "    sc= MinMaxScaler()\n",
    "    x= sc.fit_transform(x.astype(np.float))\n",
    "    y= y.reshape(-1,1)\n",
    "    y=sc.fit_transform(y.astype(np.float))\n",
    "    \n",
    "    es = EarlyStopping(monitor='loss', mode='min', verbose=1, patience=20)\n",
    "\n",
    "    \n",
    "    xTrain, xTest, yTrain, yTest = train_test_split(x, y, test_size = 2/5)\n",
    "\n",
    "    \n",
    "    model = KerasRegressor(build_fn=larger_model, batch_size=5,epochs=5000, verbose=0, callbacks=[es])\n",
    "    \n",
    "    model.fit(xTrain,yTrain)\n",
    "\n",
    "    # make predictions for test data\n",
    "    yPrediction = model.predict(xTest)\n",
    "\n",
    "    # evaluate predictions\n",
    "    #accuracy = accuracy_score(yTest, yPrediction)\n",
    "    print(\"NEURAL NETWORK REGRESSION\")\n",
    "    print(\"---------------------------------\")\n",
    "    #print(\"Accuracy: %.2f%%\" % (accuracy * 100.0))\n",
    "    print(\"Root Mean Squared Error: %.2f\" % sqrt(mean_squared_error(yTest, yPrediction)))\n",
    "    print()\n",
    "    print()"
   ]
  },
  {
   "cell_type": "code",
   "execution_count": 11,
   "metadata": {},
   "outputs": [],
   "source": [
    "def nn_reg_model2(df):\n",
    "    x = df.drop(['patch','total_score'], axis=1)\n",
    "    y = df['total_score'].values\n",
    "    \n",
    "    sc= MinMaxScaler()\n",
    "    x= sc.fit_transform(x.astype(np.float))\n",
    "    y= y.reshape(-1,1)\n",
    "    y=sc.fit_transform(y.astype(np.float))\n",
    "    \n",
    "    es = EarlyStopping(monitor='loss', mode='min', verbose=1, patience=20)\n",
    "\n",
    "    \n",
    "    xTrain, xTest, yTrain, yTest = train_test_split(x, y, test_size = 2/5)\n",
    "\n",
    "    \n",
    "    model = KerasRegressor(build_fn=model_2, batch_size=5,epochs=5000, verbose=0, callbacks=[es])\n",
    "    \n",
    "    model.fit(xTrain,yTrain)\n",
    "\n",
    "    # make predictions for test data\n",
    "    yPrediction = model.predict(xTest)\n",
    "\n",
    "    # evaluate predictions\n",
    "    #accuracy = accuracy_score(yTest, yPrediction)\n",
    "    print(\"NEURAL NETWORK REGRESSION - Model 2\")\n",
    "    print(\"---------------------------------\")\n",
    "    #print(\"Accuracy: %.2f%%\" % (accuracy * 100.0))\n",
    "    print(\"Root Mean Squared Error: %.2f\" % sqrt(mean_squared_error(yTest, yPrediction)))\n",
    "    print()\n",
    "    print()"
   ]
  },
  {
   "cell_type": "markdown",
   "metadata": {},
   "source": [
    "# Automate All Tests"
   ]
  },
  {
   "cell_type": "code",
   "execution_count": 12,
   "metadata": {},
   "outputs": [],
   "source": [
    "def run_all(df):\n",
    "    simple_stats(df)\n",
    "    lin_reg(df)\n",
    "    rand_for(df)\n",
    "    xg_reg(df)\n",
    "    nn_reg(df)\n",
    "    nn_reg_model2(df)"
   ]
  },
  {
   "cell_type": "markdown",
   "metadata": {},
   "source": [
    "### Data Dropping and Cleaning\n",
    "\n",
    "* Removing all columns except for team scores and draft information"
   ]
  },
  {
   "cell_type": "code",
   "execution_count": 13,
   "metadata": {},
   "outputs": [],
   "source": [
    "def drop_bulk(df):\n",
    "    df = df.drop(axis=1, columns=['Unnamed: 0','Unnamed: 0.1', 'barracks_status_dire', 'barracks_status_radiant',\n",
    "                                         'cluster', 'cosmetics', 'duration', 'radiant_xp_adv', 'region', 'series_id',\n",
    "                                         'series_type', 'skill', 'start_time', 'throw', 'tower_status_dire', \n",
    "                                         'tower_status_radiant', 'version', 'engine', 'first_blood_time', 'game_mode',\n",
    "                                         'league', 'leagueid', 'lobby_type', 'loss', 'match_id', 'match_seq_num', \n",
    "                                         'objectives', 'draft_timings', 'dire_team', 'radiant_gold_adv',\n",
    "                                         'radiant_team', 'radiant_win'])\n",
    "    df = df.dropna(axis=0)\n",
    "    return df"
   ]
  },
  {
   "cell_type": "code",
   "execution_count": 14,
   "metadata": {},
   "outputs": [],
   "source": [
    "def create_total(df):\n",
    "    df[\"total_score\"] = df[\"dire_score\"] + df[\"radiant_score\"]\n",
    "    return df"
   ]
  },
  {
   "cell_type": "code",
   "execution_count": 15,
   "metadata": {},
   "outputs": [],
   "source": [
    "def drop_bots(df):\n",
    "    # Dropping rows that have a total score of 0 (extremely unlikely scenario, arguably impossible)\n",
    "    # Dropping rows that do not have 10 human players participating \n",
    "    #    (means bots are playing and we do not want these included)\n",
    "\n",
    "    df = df[df.total_score != 0]\n",
    "    df = df[df.human_players == 10]\n",
    "    return df"
   ]
  },
  {
   "cell_type": "code",
   "execution_count": 16,
   "metadata": {},
   "outputs": [],
   "source": [
    "def collect_picks(row):\n",
    "    picks = []\n",
    "    json_string = row[\"picks_bans\"]\n",
    "    json_string = ast.literal_eval(json_string.replace(\"'\",'\"'))\n",
    "    data = json.loads(json.dumps(json_string))\n",
    "    picks = [data[v]['hero_id'] for v in range(len(data)) if data[v]['is_pick'] == True]\n",
    "    return picks"
   ]
  },
  {
   "cell_type": "code",
   "execution_count": 17,
   "metadata": {},
   "outputs": [],
   "source": [
    "def picks_wrapper(df):\n",
    "\n",
    "    heroes_lists = []\n",
    "\n",
    "    for index,row in df.iterrows():\n",
    "        row = row.copy()\n",
    "        picks = collect_picks(row)\n",
    "        heroes_lists.append(picks)\n",
    "        \n",
    "        \n",
    "    df['heroes'] = heroes_lists\n",
    "    df = df.drop(axis=1, columns=['picks_bans'])\n",
    "    \n",
    "    return df"
   ]
  },
  {
   "cell_type": "code",
   "execution_count": 18,
   "metadata": {},
   "outputs": [],
   "source": [
    "def columnize_heroes(df):\n",
    "    df = df.drop(axis=1, columns=['dire_score', 'human_players', 'radiant_score'])\n",
    "    df[['h1','h2','h3','h4','h5','h6','h7','h8','h9','h10']] = pd.DataFrame(df.heroes.values.tolist(), \n",
    "                                                                                index= df.index)\n",
    "    df = df.drop(axis=1, columns=['heroes'])\n",
    "\n",
    "    return df"
   ]
  },
  {
   "cell_type": "code",
   "execution_count": 19,
   "metadata": {},
   "outputs": [],
   "source": [
    "def clean(df):\n",
    "    print(df.shape)\n",
    "    # Call other functions\n",
    "    df = drop_bulk(df)\n",
    "    df = create_total(df)\n",
    "    df = drop_bots(df)\n",
    "    df = picks_wrapper(df)\n",
    "    df = columnize_heroes(df)\n",
    "    print(df.shape)\n",
    "    return df"
   ]
  },
  {
   "cell_type": "markdown",
   "metadata": {},
   "source": [
    "## Read CSVs"
   ]
  },
  {
   "cell_type": "code",
   "execution_count": 20,
   "metadata": {},
   "outputs": [
    {
     "name": "stdout",
     "output_type": "stream",
     "text": [
      "(74339, 40)\n",
      "(39606, 15)\n"
     ]
    },
    {
     "data": {
      "text/html": [
       "<div>\n",
       "<style scoped>\n",
       "    .dataframe tbody tr th:only-of-type {\n",
       "        vertical-align: middle;\n",
       "    }\n",
       "\n",
       "    .dataframe tbody tr th {\n",
       "        vertical-align: top;\n",
       "    }\n",
       "\n",
       "    .dataframe thead th {\n",
       "        text-align: right;\n",
       "    }\n",
       "</style>\n",
       "<table border=\"1\" class=\"dataframe\">\n",
       "  <thead>\n",
       "    <tr style=\"text-align: right;\">\n",
       "      <th></th>\n",
       "      <th>patch</th>\n",
       "      <th>total_score</th>\n",
       "      <th>h1</th>\n",
       "      <th>h2</th>\n",
       "      <th>h3</th>\n",
       "      <th>h4</th>\n",
       "      <th>h5</th>\n",
       "      <th>h6</th>\n",
       "      <th>h7</th>\n",
       "      <th>h8</th>\n",
       "      <th>h9</th>\n",
       "      <th>h10</th>\n",
       "    </tr>\n",
       "  </thead>\n",
       "  <tbody>\n",
       "    <tr>\n",
       "      <th>0</th>\n",
       "      <td>41.0</td>\n",
       "      <td>95.0</td>\n",
       "      <td>66</td>\n",
       "      <td>16</td>\n",
       "      <td>121</td>\n",
       "      <td>72</td>\n",
       "      <td>86</td>\n",
       "      <td>52</td>\n",
       "      <td>95</td>\n",
       "      <td>19</td>\n",
       "      <td>76</td>\n",
       "      <td>34</td>\n",
       "    </tr>\n",
       "    <tr>\n",
       "      <th>1</th>\n",
       "      <td>41.0</td>\n",
       "      <td>102.0</td>\n",
       "      <td>25</td>\n",
       "      <td>86</td>\n",
       "      <td>16</td>\n",
       "      <td>50</td>\n",
       "      <td>103</td>\n",
       "      <td>102</td>\n",
       "      <td>23</td>\n",
       "      <td>8</td>\n",
       "      <td>53</td>\n",
       "      <td>70</td>\n",
       "    </tr>\n",
       "    <tr>\n",
       "      <th>2</th>\n",
       "      <td>41.0</td>\n",
       "      <td>73.0</td>\n",
       "      <td>9</td>\n",
       "      <td>58</td>\n",
       "      <td>102</td>\n",
       "      <td>7</td>\n",
       "      <td>49</td>\n",
       "      <td>30</td>\n",
       "      <td>8</td>\n",
       "      <td>10</td>\n",
       "      <td>46</td>\n",
       "      <td>26</td>\n",
       "    </tr>\n",
       "    <tr>\n",
       "      <th>3</th>\n",
       "      <td>41.0</td>\n",
       "      <td>83.0</td>\n",
       "      <td>25</td>\n",
       "      <td>19</td>\n",
       "      <td>64</td>\n",
       "      <td>60</td>\n",
       "      <td>81</td>\n",
       "      <td>111</td>\n",
       "      <td>86</td>\n",
       "      <td>12</td>\n",
       "      <td>43</td>\n",
       "      <td>39</td>\n",
       "    </tr>\n",
       "    <tr>\n",
       "      <th>4</th>\n",
       "      <td>41.0</td>\n",
       "      <td>57.0</td>\n",
       "      <td>23</td>\n",
       "      <td>96</td>\n",
       "      <td>86</td>\n",
       "      <td>90</td>\n",
       "      <td>64</td>\n",
       "      <td>8</td>\n",
       "      <td>63</td>\n",
       "      <td>32</td>\n",
       "      <td>21</td>\n",
       "      <td>99</td>\n",
       "    </tr>\n",
       "  </tbody>\n",
       "</table>\n",
       "</div>"
      ],
      "text/plain": [
       "   patch  total_score  h1  h2   h3  h4   h5   h6  h7  h8  h9  h10\n",
       "0   41.0         95.0  66  16  121  72   86   52  95  19  76   34\n",
       "1   41.0        102.0  25  86   16  50  103  102  23   8  53   70\n",
       "2   41.0         73.0   9  58  102   7   49   30   8  10  46   26\n",
       "3   41.0         83.0  25  19   64  60   81  111  86  12  43   39\n",
       "4   41.0         57.0  23  96   86  90   64    8  63  32  21   99"
      ]
     },
     "execution_count": 20,
     "metadata": {},
     "output_type": "execute_result"
    }
   ],
   "source": [
    "df_prof = pd.read_csv(\"https://dota-match-ids.s3.amazonaws.com/raw_match_csvs/professional_raw_match_full.csv\")\n",
    "df_prof = clean(df_prof)\n",
    "df_prof = df_prof.drop(['Unnamed: 0.1.1', 'Unnamed: 0.1.1.1', 'Unnamed: 0.1.1.1.1'], axis=1)\n",
    "df_prof.head()"
   ]
  },
  {
   "cell_type": "markdown",
   "metadata": {},
   "source": [
    "### See which patch versions we have"
   ]
  },
  {
   "cell_type": "code",
   "execution_count": 21,
   "metadata": {},
   "outputs": [
    {
     "name": "stdout",
     "output_type": "stream",
     "text": [
      "[41. 40. 39. 38. 37. 36. 35. 34. 33. 31. 30. 29. 28. 27. 26. 25. 24. 23.\n",
      " 22. 21. 20. 19. 18. 17. 16.]\n"
     ]
    }
   ],
   "source": [
    "print(df_prof['patch'].unique())"
   ]
  },
  {
   "cell_type": "markdown",
   "metadata": {},
   "source": [
    "### Get an idea for the amount of matches we have for each patch version"
   ]
  },
  {
   "cell_type": "code",
   "execution_count": 22,
   "metadata": {},
   "outputs": [
    {
     "name": "stdout",
     "output_type": "stream",
     "text": [
      "(905, 12)\n",
      "(1573, 12)\n",
      "(5717, 12)\n",
      "(278, 12)\n",
      "(1142, 12)\n",
      "(932, 12)\n",
      "(318, 12)\n",
      "(499, 12)\n",
      "(1417, 12)\n",
      "(4109, 12)\n",
      "(2500, 12)\n",
      "(447, 12)\n",
      "(234, 12)\n",
      "(181, 12)\n",
      "(504, 12)\n",
      "(242, 12)\n",
      "(0, 12)\n",
      "(145, 12)\n",
      "(328, 12)\n",
      "(339, 12)\n",
      "(226, 12)\n",
      "(399, 12)\n",
      "(2746, 12)\n",
      "(2467, 12)\n",
      "(4952, 12)\n",
      "(7006, 12)\n"
     ]
    }
   ],
   "source": [
    "for i in range(min(df_prof['patch'].astype('int64')), max(df_prof['patch'].astype('int64')) + 1):\n",
    "    print(df_prof.loc[df_prof['patch'] == i].shape)\n",
    "    \n",
    "#run_all(df_prof)"
   ]
  },
  {
   "cell_type": "markdown",
   "metadata": {},
   "source": [
    "### Let's run our tests on patch versions where we have more than 2000 data points"
   ]
  },
  {
   "cell_type": "code",
   "execution_count": null,
   "metadata": {},
   "outputs": [
    {
     "name": "stdout",
     "output_type": "stream",
     "text": [
      "PATCH VERSION:  18\n",
      "Dataset shape for patch version:  (5717, 12)\n",
      "---------------------------------------------\n",
      "IQR:  23.0\n",
      "LOW:  0.5\n",
      "HIGH:  92.5\n",
      "Q1:  35.0\n",
      "Q3:  58.0\n"
     ]
    },
    {
     "data": {
      "image/png": "[encoded data removed]",
      "text/plain": [
       "<Figure size 432x288 with 1 Axes>"
      ]
     },
     "metadata": {
      "needs_background": "light"
     },
     "output_type": "display_data"
    },
    {
     "name": "stdout",
     "output_type": "stream",
     "text": [
      "LINEAR REGRESSION\n",
      "---------------------------------\n",
      "Exact Answer Accuracy: 1.84%\n",
      "Accuracy with +/- 5 Spread: 22.21%\n",
      "Accuracy with +/- 10 Spread: 43.24%\n",
      "Accuracy with +/- 15 Spread: 62.00%\n",
      "Root Mean Squared Error: 17.43\n",
      "\n",
      "\n",
      "RANDOM FOREST REGRESSION\n",
      "---------------------------------\n",
      "Accuracy: 2.45%\n",
      "Accuracy with +/- 5 Spread: 22.61%\n",
      "Accuracy with +/- 10 Spread: 44.86%\n",
      "Accuracy with +/- 15 Spread: 62.88%\n",
      "Root Mean Squared Error: 17.23\n",
      "\n",
      "\n",
      "XGBOOST REGRESSION\n",
      "---------------------------------\n",
      "Accuracy: 2.75%\n",
      "Accuracy with +/- 5 Spread: 22.39%\n",
      "Accuracy with +/- 10 Spread: 44.08%\n",
      "Accuracy with +/- 15 Spread: 60.87%\n",
      "Root Mean Squared Error: 18.63\n",
      "\n",
      "\n",
      "Epoch 00175: early stopping\n",
      "NEURAL NETWORK REGRESSION\n",
      "---------------------------------\n",
      "Root Mean Squared Error: 0.14\n",
      "\n",
      "\n",
      "Epoch 00231: early stopping\n",
      "NEURAL NETWORK REGRESSION - Model 2\n",
      "---------------------------------\n",
      "Root Mean Squared Error: 0.14\n",
      "\n",
      "\n",
      "PATCH VERSION:  25\n",
      "Dataset shape for patch version:  (4109, 12)\n",
      "---------------------------------------------\n",
      "IQR:  23.0\n",
      "LOW:  5.5\n",
      "HIGH:  97.5\n",
      "Q1:  40.0\n",
      "Q3:  63.0\n"
     ]
    },
    {
     "data": {
      "image/png": "[encoded data removed]",
      "text/plain": [
       "<Figure size 432x288 with 1 Axes>"
      ]
     },
     "metadata": {
      "needs_background": "light"
     },
     "output_type": "display_data"
    },
    {
     "name": "stdout",
     "output_type": "stream",
     "text": [
      "LINEAR REGRESSION\n",
      "---------------------------------\n",
      "Exact Answer Accuracy: 2.07%\n",
      "Accuracy with +/- 5 Spread: 22.20%\n",
      "Accuracy with +/- 10 Spread: 42.88%\n",
      "Accuracy with +/- 15 Spread: 61.37%\n",
      "Root Mean Squared Error: 17.28\n",
      "\n",
      "\n",
      "RANDOM FOREST REGRESSION\n",
      "---------------------------------\n",
      "Accuracy: 2.25%\n",
      "Accuracy with +/- 5 Spread: 22.38%\n",
      "Accuracy with +/- 10 Spread: 43.19%\n",
      "Accuracy with +/- 15 Spread: 62.10%\n",
      "Root Mean Squared Error: 17.14\n",
      "\n",
      "\n",
      "XGBOOST REGRESSION\n",
      "---------------------------------\n",
      "Accuracy: 2.62%\n",
      "Accuracy with +/- 5 Spread: 20.01%\n",
      "Accuracy with +/- 10 Spread: 39.60%\n",
      "Accuracy with +/- 15 Spread: 59.18%\n",
      "Root Mean Squared Error: 20.11\n",
      "\n",
      "\n",
      "Epoch 00230: early stopping\n",
      "NEURAL NETWORK REGRESSION\n",
      "---------------------------------\n",
      "Root Mean Squared Error: 0.12\n",
      "\n",
      "\n",
      "Epoch 00258: early stopping\n",
      "NEURAL NETWORK REGRESSION - Model 2\n",
      "---------------------------------\n",
      "Root Mean Squared Error: 0.13\n",
      "\n",
      "\n",
      "PATCH VERSION:  26\n",
      "Dataset shape for patch version:  (2500, 12)\n",
      "---------------------------------------------\n",
      "IQR:  20.0\n",
      "LOW:  9.0\n",
      "HIGH:  89.0\n",
      "Q1:  39.0\n",
      "Q3:  59.0\n"
     ]
    },
    {
     "data": {
      "image/png": "[encoded data removed]",
      "text/plain": [
       "<Figure size 432x288 with 1 Axes>"
      ]
     },
     "metadata": {
      "needs_background": "light"
     },
     "output_type": "display_data"
    },
    {
     "name": "stdout",
     "output_type": "stream",
     "text": [
      "LINEAR REGRESSION\n",
      "---------------------------------\n",
      "Exact Answer Accuracy: 2.50%\n",
      "Accuracy with +/- 5 Spread: 25.80%\n",
      "Accuracy with +/- 10 Spread: 49.70%\n",
      "Accuracy with +/- 15 Spread: 68.70%\n",
      "Root Mean Squared Error: 15.38\n",
      "\n",
      "\n",
      "RANDOM FOREST REGRESSION\n",
      "---------------------------------\n",
      "Accuracy: 2.70%\n",
      "Accuracy with +/- 5 Spread: 26.10%\n",
      "Accuracy with +/- 10 Spread: 48.00%\n",
      "Accuracy with +/- 15 Spread: 65.80%\n",
      "Root Mean Squared Error: 16.86\n",
      "\n",
      "\n",
      "XGBOOST REGRESSION\n",
      "---------------------------------\n",
      "Accuracy: 2.30%\n",
      "Accuracy with +/- 5 Spread: 20.00%\n",
      "Accuracy with +/- 10 Spread: 45.90%\n",
      "Accuracy with +/- 15 Spread: 65.90%\n",
      "Root Mean Squared Error: 17.57\n",
      "\n",
      "\n",
      "Epoch 00227: early stopping\n",
      "NEURAL NETWORK REGRESSION\n",
      "---------------------------------\n",
      "Root Mean Squared Error: 0.15\n",
      "\n",
      "\n",
      "Epoch 00438: early stopping\n",
      "NEURAL NETWORK REGRESSION - Model 2\n",
      "---------------------------------\n",
      "Root Mean Squared Error: 0.16\n",
      "\n",
      "\n",
      "PATCH VERSION:  38\n",
      "Dataset shape for patch version:  (2746, 12)\n",
      "---------------------------------------------\n",
      "IQR:  25.0\n",
      "LOW:  8.5\n",
      "HIGH:  108.5\n",
      "Q1:  46.0\n",
      "Q3:  71.0\n"
     ]
    },
    {
     "data": {
      "image/png": "[encoded data removed]",
      "text/plain": [
       "<Figure size 432x288 with 1 Axes>"
      ]
     },
     "metadata": {
      "needs_background": "light"
     },
     "output_type": "display_data"
    },
    {
     "name": "stdout",
     "output_type": "stream",
     "text": [
      "LINEAR REGRESSION\n",
      "---------------------------------\n",
      "Exact Answer Accuracy: 1.46%\n",
      "Accuracy with +/- 5 Spread: 20.93%\n",
      "Accuracy with +/- 10 Spread: 41.31%\n",
      "Accuracy with +/- 15 Spread: 58.42%\n",
      "Root Mean Squared Error: 19.23\n",
      "\n",
      "\n",
      "RANDOM FOREST REGRESSION\n",
      "---------------------------------\n",
      "Accuracy: 1.73%\n",
      "Accuracy with +/- 5 Spread: 21.66%\n",
      "Accuracy with +/- 10 Spread: 42.58%\n",
      "Accuracy with +/- 15 Spread: 59.33%\n",
      "Root Mean Squared Error: 18.28\n",
      "\n",
      "\n",
      "XGBOOST REGRESSION\n",
      "---------------------------------\n",
      "Accuracy: 1.55%\n",
      "Accuracy with +/- 5 Spread: 19.29%\n",
      "Accuracy with +/- 10 Spread: 39.49%\n",
      "Accuracy with +/- 15 Spread: 55.87%\n",
      "Root Mean Squared Error: 19.61\n",
      "\n",
      "\n",
      "Epoch 00223: early stopping\n",
      "NEURAL NETWORK REGRESSION\n",
      "---------------------------------\n",
      "Root Mean Squared Error: 0.12\n",
      "\n",
      "\n",
      "Epoch 00433: early stopping\n",
      "NEURAL NETWORK REGRESSION - Model 2\n",
      "---------------------------------\n",
      "Root Mean Squared Error: 0.14\n",
      "\n",
      "\n",
      "PATCH VERSION:  39\n",
      "Dataset shape for patch version:  (2467, 12)\n",
      "---------------------------------------------\n",
      "IQR:  23.5\n",
      "LOW:  4.75\n",
      "HIGH:  98.75\n",
      "Q1:  40.0\n",
      "Q3:  63.5\n"
     ]
    },
    {
     "data": {
      "image/png": "[encoded data removed]",
      "text/plain": [
       "<Figure size 432x288 with 1 Axes>"
      ]
     },
     "metadata": {
      "needs_background": "light"
     },
     "output_type": "display_data"
    },
    {
     "name": "stdout",
     "output_type": "stream",
     "text": [
      "LINEAR REGRESSION\n",
      "---------------------------------\n",
      "Exact Answer Accuracy: 2.13%\n",
      "Accuracy with +/- 5 Spread: 21.48%\n",
      "Accuracy with +/- 10 Spread: 41.64%\n",
      "Accuracy with +/- 15 Spread: 61.20%\n",
      "Root Mean Squared Error: 19.60\n",
      "\n",
      "\n",
      "RANDOM FOREST REGRESSION\n",
      "---------------------------------\n",
      "Accuracy: 2.74%\n",
      "Accuracy with +/- 5 Spread: 21.58%\n",
      "Accuracy with +/- 10 Spread: 42.55%\n",
      "Accuracy with +/- 15 Spread: 60.99%\n",
      "Root Mean Squared Error: 18.33\n",
      "\n",
      "\n",
      "XGBOOST REGRESSION\n",
      "---------------------------------\n",
      "Accuracy: 2.33%\n",
      "Accuracy with +/- 5 Spread: 21.38%\n",
      "Accuracy with +/- 10 Spread: 39.72%\n",
      "Accuracy with +/- 15 Spread: 56.74%\n",
      "Root Mean Squared Error: 21.65\n",
      "\n",
      "\n",
      "Epoch 00131: early stopping\n",
      "NEURAL NETWORK REGRESSION\n",
      "---------------------------------\n",
      "Root Mean Squared Error: 0.13\n",
      "\n",
      "\n",
      "Epoch 00496: early stopping\n",
      "NEURAL NETWORK REGRESSION - Model 2\n",
      "---------------------------------\n",
      "Root Mean Squared Error: 0.15\n",
      "\n",
      "\n",
      "PATCH VERSION:  40\n",
      "Dataset shape for patch version:  (4952, 12)\n",
      "---------------------------------------------\n",
      "IQR:  23.0\n",
      "LOW:  4.5\n",
      "HIGH:  96.5\n",
      "Q1:  39.0\n",
      "Q3:  62.0\n"
     ]
    },
    {
     "data": {
      "image/png": "[encoded data removed]",
      "text/plain": [
       "<Figure size 432x288 with 1 Axes>"
      ]
     },
     "metadata": {
      "needs_background": "light"
     },
     "output_type": "display_data"
    },
    {
     "name": "stdout",
     "output_type": "stream",
     "text": [
      "LINEAR REGRESSION\n",
      "---------------------------------\n",
      "Exact Answer Accuracy: 2.27%\n",
      "Accuracy with +/- 5 Spread: 22.31%\n",
      "Accuracy with +/- 10 Spread: 42.55%\n",
      "Accuracy with +/- 15 Spread: 61.38%\n",
      "Root Mean Squared Error: 16.96\n",
      "\n",
      "\n",
      "RANDOM FOREST REGRESSION\n",
      "---------------------------------\n",
      "Accuracy: 2.17%\n",
      "Accuracy with +/- 5 Spread: 22.41%\n",
      "Accuracy with +/- 10 Spread: 43.77%\n",
      "Accuracy with +/- 15 Spread: 62.29%\n",
      "Root Mean Squared Error: 17.30\n",
      "\n",
      "\n",
      "XGBOOST REGRESSION\n",
      "---------------------------------\n",
      "Accuracy: 1.82%\n",
      "Accuracy with +/- 5 Spread: 20.95%\n",
      "Accuracy with +/- 10 Spread: 41.75%\n",
      "Accuracy with +/- 15 Spread: 59.26%\n",
      "Root Mean Squared Error: 19.49\n",
      "\n",
      "\n",
      "Epoch 00149: early stopping\n",
      "NEURAL NETWORK REGRESSION\n",
      "---------------------------------\n",
      "Root Mean Squared Error: 0.13\n",
      "\n",
      "\n",
      "Epoch 00449: early stopping\n",
      "NEURAL NETWORK REGRESSION - Model 2\n",
      "---------------------------------\n",
      "Root Mean Squared Error: 0.14\n",
      "\n",
      "\n",
      "PATCH VERSION:  41\n",
      "Dataset shape for patch version:  (7006, 12)\n",
      "---------------------------------------------\n",
      "IQR:  26.0\n",
      "LOW:  4.0\n",
      "HIGH:  108.0\n",
      "Q1:  43.0\n",
      "Q3:  69.0\n"
     ]
    },
    {
     "data": {
      "image/png": "[encoded data removed]",
      "text/plain": [
       "<Figure size 432x288 with 1 Axes>"
      ]
     },
     "metadata": {
      "needs_background": "light"
     },
     "output_type": "display_data"
    },
    {
     "name": "stdout",
     "output_type": "stream",
     "text": [
      "LINEAR REGRESSION\n",
      "---------------------------------\n",
      "Exact Answer Accuracy: 1.71%\n",
      "Accuracy with +/- 5 Spread: 19.98%\n",
      "Accuracy with +/- 10 Spread: 38.32%\n",
      "Accuracy with +/- 15 Spread: 54.12%\n",
      "Root Mean Squared Error: 19.96\n",
      "\n",
      "\n",
      "RANDOM FOREST REGRESSION\n",
      "---------------------------------\n",
      "Accuracy: 1.93%\n",
      "Accuracy with +/- 5 Spread: 20.87%\n",
      "Accuracy with +/- 10 Spread: 39.28%\n",
      "Accuracy with +/- 15 Spread: 56.30%\n",
      "Root Mean Squared Error: 19.53\n",
      "\n",
      "\n"
     ]
    }
   ],
   "source": [
    "for i in range(min(df_prof['patch'].astype('int64')), max(df_prof['patch'].astype('int64')) + 1):\n",
    "    if df_prof.loc[df_prof['patch'] == i].shape[0] > 2000:\n",
    "        print(\"PATCH VERSION: \", i)\n",
    "        print(\"Dataset shape for patch version: \", df_prof.loc[df_prof['patch'] == i].shape)\n",
    "        print(\"---------------------------------------------\")\n",
    "        run_all(df_prof.loc[df_prof['patch'] == i])\n"
   ]
  },
  {
   "cell_type": "code",
   "execution_count": null,
   "metadata": {},
   "outputs": [],
   "source": []
  }
 ],
 "metadata": {
  "kernelspec": {
   "display_name": "conda_python3",
   "language": "python",
   "name": "conda_python3"
  },
  "language_info": {
   "codemirror_mode": {
    "name": "ipython",
    "version": 3
   },
   "file_extension": ".py",
   "mimetype": "text/x-python",
   "name": "python",
   "nbconvert_exporter": "python",
   "pygments_lexer": "ipython3",
   "version": "3.6.9"
  }
 },
 "nbformat": 4,
 "nbformat_minor": 2
}
