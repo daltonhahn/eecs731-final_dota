{
 "cells": [
  {
   "cell_type": "markdown",
   "metadata": {},
   "source": [
    "# Dota 2 - Regression Analysis\n",
    "\n",
    "* Trying to predict the total score of two teams based full match data"
   ]
  },
  {
   "cell_type": "markdown",
   "metadata": {},
   "source": [
    "# RUN THIS BLOCK ONCE"
   ]
  },
  {
   "cell_type": "code",
   "execution_count": 1,
   "metadata": {},
   "outputs": [],
   "source": [
    "\n",
    "%%capture\n",
    "!conda update --all -y\n",
    "!pip install --upgrade setuptools\n",
    "!pip install xgboost\n",
    "!pip install keras\n",
    "!pip install tensorflow\n"
   ]
  },
  {
   "cell_type": "code",
   "execution_count": 2,
   "metadata": {},
   "outputs": [
    {
     "name": "stderr",
     "output_type": "stream",
     "text": [
      "Using TensorFlow backend.\n"
     ]
    }
   ],
   "source": [
    "# API IMPORTS\n",
    "from __future__ import print_function\n",
    "import time\n",
    "from pprint import pprint\n",
    "import json\n",
    "import ast\n",
    "from sklearn.exceptions import DataConversionWarning\n",
    "\n",
    "\n",
    "# BASIC IMPORTS\n",
    "import warnings\n",
    "warnings.filterwarnings(\"ignore\", category=DataConversionWarning)\n",
    "import pandas as pd\n",
    "import numpy as np\n",
    "import datetime as dt\n",
    "import seaborn as sns\n",
    "import matplotlib.pyplot as plt\n",
    "from math import sqrt\n",
    "from statistics import mean, stdev\n",
    "from scipy.stats import iqr\n",
    "\n",
    "#SKLEARN IMPORTS\n",
    "from sklearn.model_selection import cross_val_score\n",
    "from sklearn.model_selection import KFold\n",
    "from sklearn.preprocessing import  MinMaxScaler\n",
    "from sklearn.pipeline import Pipeline\n",
    "from sklearn.model_selection import train_test_split\n",
    "from sklearn.metrics import accuracy_score\n",
    "from sklearn.metrics import mean_squared_error\n",
    "from sklearn.linear_model import LinearRegression\n",
    "from sklearn.ensemble import RandomForestRegressor\n",
    "\n",
    "# KERAS/TENSORFLOW IMPORTS\n",
    "from keras.models import Sequential\n",
    "from keras.layers import Dense\n",
    "from keras.wrappers.scikit_learn import KerasRegressor\n",
    "from keras.callbacks import EarlyStopping\n",
    "\n",
    "\n",
    "# XGBOOST IMPORTS\n",
    "from xgboost import XGBClassifier"
   ]
  },
  {
   "cell_type": "markdown",
   "metadata": {},
   "source": [
    "# Basic Stats"
   ]
  },
  {
   "cell_type": "code",
   "execution_count": 3,
   "metadata": {},
   "outputs": [],
   "source": [
    "def simple_stats(df):\n",
    "    sorted(df['total_score'])\n",
    "    q1, q3= np.percentile(df['total_score'],[25,75])\n",
    "    inter_range = iqr(df['total_score'])\n",
    "    lower_bound = q1 -(1.5 * inter_range) \n",
    "    upper_bound = q3 +(1.5 * inter_range) \n",
    "    print(\"IQR: \", inter_range)\n",
    "    print(\"LOW: \", lower_bound)\n",
    "    print(\"HIGH: \", upper_bound)\n",
    "    print(\"Q1: \", q1)\n",
    "    print(\"Q3: \", q3)\n",
    "    \n",
    "    \n",
    "    plt.violinplot(df['total_score'], showmedians=True)\n",
    "    plt.ylabel(\"Total Score\")\n",
    "    plt.xticks([])\n",
    "    plt.show()"
   ]
  },
  {
   "cell_type": "markdown",
   "metadata": {},
   "source": [
    "## Compute Accuracy with Range"
   ]
  },
  {
   "cell_type": "code",
   "execution_count": 4,
   "metadata": {},
   "outputs": [],
   "source": [
    "def accuracy_calc(yTest, predictions, spread):\n",
    "    num_tests = yTest.size\n",
    "    correct = 0\n",
    "    \n",
    "    for l1,l2 in zip(yTest, predictions):\n",
    "        if abs(l1 - l2) < spread:\n",
    "            correct = correct + 1\n",
    "            \n",
    "    return correct/num_tests"
   ]
  },
  {
   "cell_type": "markdown",
   "metadata": {},
   "source": [
    "# Linear Regression"
   ]
  },
  {
   "cell_type": "code",
   "execution_count": 5,
   "metadata": {},
   "outputs": [],
   "source": [
    "def lin_reg(df):\n",
    "    x = df.drop(['Unnamed: 0','total_score'], axis=1)\n",
    "    y = df['total_score']\n",
    "\n",
    "    xTrain, xTest, yTrain, yTest = train_test_split(x, y, test_size = 2/5)\n",
    "    linearRegressor = LinearRegression()\n",
    "    linearRegressor.fit(xTrain, yTrain)\n",
    "    yPrediction = linearRegressor.predict(xTest)\n",
    "\n",
    "    predictions = [round(value) for value in yPrediction]\n",
    "\n",
    "    accuracy = accuracy_score(yTest, predictions)\n",
    "    print(\"LINEAR REGRESSION\")\n",
    "    print(\"---------------------------------\")\n",
    "    print(\"Exact Answer Accuracy: %.2f%%\" % (accuracy * 100.0))\n",
    "    print(\"Accuracy with +/- 5 Spread: %.2f%%\" % (accuracy_calc(yTest, yPrediction, 5) * 100.0))\n",
    "    print(\"Accuracy with +/- 10 Spread: %.2f%%\" % (accuracy_calc(yTest, yPrediction, 10) * 100.0))\n",
    "    print(\"Accuracy with +/- 15 Spread: %.2f%%\" % (accuracy_calc(yTest, yPrediction, 15) * 100.0))\n",
    "    print(\"Root Mean Squared Error: %.2f\" % sqrt(mean_squared_error(yTest, predictions)))\n",
    "    print()\n",
    "    print()"
   ]
  },
  {
   "cell_type": "markdown",
   "metadata": {},
   "source": [
    "# Random Forest Regression"
   ]
  },
  {
   "cell_type": "code",
   "execution_count": 6,
   "metadata": {},
   "outputs": [],
   "source": [
    "def rand_for(df):\n",
    "    x = df.drop(['Unnamed: 0','total_score'], axis=1)\n",
    "    y = df['total_score']\n",
    "\n",
    "    xTrain, xTest, yTrain, yTest = train_test_split(x, y, test_size = 2/5)\n",
    "    forestRegressor = RandomForestRegressor(n_estimators=2000, max_depth=10)\n",
    "    forestRegressor.fit(xTrain, yTrain)\n",
    "    yPrediction = forestRegressor.predict(xTest)\n",
    "\n",
    "    predictions = [round(value) for value in yPrediction]\n",
    "\n",
    "    accuracy = accuracy_score(yTest, predictions)\n",
    "    print(\"RANDOM FOREST REGRESSION\")\n",
    "    print(\"---------------------------------\")\n",
    "    print(\"Accuracy: %.2f%%\" % (accuracy * 100.0))\n",
    "    print(\"Accuracy with +/- 5 Spread: %.2f%%\" % (accuracy_calc(yTest, yPrediction, 5) * 100.0))\n",
    "    print(\"Accuracy with +/- 10 Spread: %.2f%%\" % (accuracy_calc(yTest, yPrediction, 10) * 100.0))\n",
    "    print(\"Accuracy with +/- 15 Spread: %.2f%%\" % (accuracy_calc(yTest, yPrediction, 15) * 100.0))\n",
    "    print(\"Root Mean Squared Error: %.2f\" % sqrt(mean_squared_error(yTest, predictions)))\n",
    "    print()\n",
    "    print()"
   ]
  },
  {
   "cell_type": "markdown",
   "metadata": {},
   "source": [
    "# XGBoost"
   ]
  },
  {
   "cell_type": "code",
   "execution_count": 7,
   "metadata": {},
   "outputs": [],
   "source": [
    "def xg_reg(df):\n",
    "    x = df.drop(['Unnamed: 0','total_score'], axis=1)\n",
    "    y = df['total_score']\n",
    "\n",
    "    xTrain, xTest, yTrain, yTest = train_test_split(x, y, test_size = 2/5)\n",
    "\n",
    "    # fit model no training data\n",
    "    model = XGBClassifier(scale_pos_weight=1,\n",
    "                          learning_rate=0.01,  \n",
    "                          subsample = 0.8,\n",
    "                          objective='reg:squarederror', \n",
    "                          n_estimators=2000, \n",
    "                          reg_alpha = 0.3,\n",
    "                          max_depth=40, \n",
    "                          gamma=10)\n",
    "\n",
    "    model.fit(xTrain, yTrain)\n",
    "\n",
    "    # make predictions for test data\n",
    "    yPrediction = model.predict(xTest)\n",
    "    predictions = [round(value) for value in yPrediction]\n",
    "\n",
    "    # evaluate predictions\n",
    "    accuracy = accuracy_score(yTest, predictions)\n",
    "    print(\"XGBOOST REGRESSION\")\n",
    "    print(\"---------------------------------\")\n",
    "    print(\"Accuracy: %.2f%%\" % (accuracy * 100.0))\n",
    "    print(\"Accuracy with +/- 5 Spread: %.2f%%\" % (accuracy_calc(yTest, yPrediction, 5) * 100.0))\n",
    "    print(\"Accuracy with +/- 10 Spread: %.2f%%\" % (accuracy_calc(yTest, yPrediction, 10) * 100.0))\n",
    "    print(\"Accuracy with +/- 15 Spread: %.2f%%\" % (accuracy_calc(yTest, yPrediction, 15) * 100.0))\n",
    "    print(\"Root Mean Squared Error: %.2f\" % sqrt(mean_squared_error(yTest, predictions)))\n",
    "    print()\n",
    "    print()"
   ]
  },
  {
   "cell_type": "markdown",
   "metadata": {},
   "source": [
    "# Neural Network\n",
    "* Inspiration from: https://machinelearningmastery.com/regression-tutorial-keras-deep-learning-library-python/"
   ]
  },
  {
   "cell_type": "code",
   "execution_count": 8,
   "metadata": {},
   "outputs": [],
   "source": [
    "def larger_model():\n",
    "    # create model\n",
    "    model = Sequential()\n",
    "    model.add(Dense(10, input_dim=10, kernel_initializer='normal', activation='relu'))\n",
    "    model.add(Dense(6, kernel_initializer='normal', activation='relu'))\n",
    "    model.add(Dense(1, kernel_initializer='normal'))\n",
    "    # Compile model\n",
    "    model.compile(loss='mean_squared_error', optimizer='adam')\n",
    "    return model"
   ]
  },
  {
   "cell_type": "code",
   "execution_count": 9,
   "metadata": {},
   "outputs": [],
   "source": [
    "def model_2():\n",
    "    # create model\n",
    "    model = Sequential()\n",
    "    model.add(Dense(10, input_dim=10, kernel_initializer='normal', activation='relu'))\n",
    "    model.add(Dense(50, kernel_initializer='normal', activation='relu'))\n",
    "    model.add(Dense(75, kernel_initializer='normal', activation='relu'))\n",
    "    model.add(Dense(15, kernel_initializer='normal', activation='relu'))\n",
    "    model.add(Dense(1, kernel_initializer='normal'))\n",
    "    # Compile model\n",
    "    model.compile(loss='mean_squared_error', optimizer='adam')\n",
    "    return model"
   ]
  },
  {
   "cell_type": "code",
   "execution_count": 10,
   "metadata": {},
   "outputs": [],
   "source": [
    "def nn_reg(df):\n",
    "    x = df.drop(['Unnamed: 0','total_score'], axis=1)\n",
    "    y = df['total_score'].values\n",
    "    \n",
    "    sc= MinMaxScaler()\n",
    "    x= sc.fit_transform(x.astype(np.float))\n",
    "    y= y.reshape(-1,1)\n",
    "    y=sc.fit_transform(y.astype(np.float))\n",
    "    \n",
    "    es = EarlyStopping(monitor='loss', mode='min', verbose=1, patience=20)\n",
    "\n",
    "    \n",
    "    xTrain, xTest, yTrain, yTest = train_test_split(x, y, test_size = 2/5)\n",
    "\n",
    "    \n",
    "    model = KerasRegressor(build_fn=larger_model, batch_size=5,epochs=5000, verbose=0, callbacks=[es])\n",
    "    \n",
    "    model.fit(xTrain,yTrain)\n",
    "\n",
    "    # make predictions for test data\n",
    "    yPrediction = model.predict(xTest)\n",
    "\n",
    "    # evaluate predictions\n",
    "    #accuracy = accuracy_score(yTest, yPrediction)\n",
    "    print(\"NEURAL NETWORK REGRESSION\")\n",
    "    print(\"---------------------------------\")\n",
    "    #print(\"Accuracy: %.2f%%\" % (accuracy * 100.0))\n",
    "    print(\"Root Mean Squared Error: %.2f\" % sqrt(mean_squared_error(yTest, yPrediction)))\n",
    "    print()\n",
    "    print()"
   ]
  },
  {
   "cell_type": "code",
   "execution_count": 11,
   "metadata": {},
   "outputs": [],
   "source": [
    "def nn_reg_model2(df):\n",
    "    x = df.drop(['Unnamed: 0','total_score'], axis=1)\n",
    "    y = df['total_score'].values\n",
    "    \n",
    "    sc= MinMaxScaler()\n",
    "    x= sc.fit_transform(x.astype(np.float))\n",
    "    y= y.reshape(-1,1)\n",
    "    y=sc.fit_transform(y.astype(np.float))\n",
    "    \n",
    "    es = EarlyStopping(monitor='loss', mode='min', verbose=1, patience=20)\n",
    "\n",
    "    \n",
    "    xTrain, xTest, yTrain, yTest = train_test_split(x, y, test_size = 2/5)\n",
    "\n",
    "    \n",
    "    model = KerasRegressor(build_fn=model_2, batch_size=5,epochs=5000, verbose=0, callbacks=[es])\n",
    "    \n",
    "    model.fit(xTrain,yTrain)\n",
    "\n",
    "    # make predictions for test data\n",
    "    yPrediction = model.predict(xTest)\n",
    "\n",
    "    # evaluate predictions\n",
    "    #accuracy = accuracy_score(yTest, yPrediction)\n",
    "    print(\"NEURAL NETWORK REGRESSION - Model 2\")\n",
    "    print(\"---------------------------------\")\n",
    "    #print(\"Accuracy: %.2f%%\" % (accuracy * 100.0))\n",
    "    print(\"Root Mean Squared Error: %.2f\" % sqrt(mean_squared_error(yTest, yPrediction)))\n",
    "    print()\n",
    "    print()"
   ]
  },
  {
   "cell_type": "markdown",
   "metadata": {},
   "source": [
    "# Automate All Tests"
   ]
  },
  {
   "cell_type": "code",
   "execution_count": 12,
   "metadata": {},
   "outputs": [],
   "source": [
    "def run_all(df):\n",
    "    simple_stats(df)\n",
    "    lin_reg(df)\n",
    "    rand_for(df)\n",
    "    xg_reg(df)\n",
    "    nn_reg(df)\n",
    "    nn_reg_model2(df)"
   ]
  },
  {
   "cell_type": "markdown",
   "metadata": {},
   "source": [
    "## Read CSVs"
   ]
  },
  {
   "cell_type": "code",
   "execution_count": 13,
   "metadata": {},
   "outputs": [],
   "source": [
    "df_int = pd.read_csv(\"../../data/processed/Dalton/reg_int_full.csv\")\n",
    "df_prem = pd.read_csv(\"../../data/processed/Dalton/reg_prem_full.csv\")\n",
    "df_prof = pd.read_csv(\"../../data/processed/Dalton/reg_prof_full.csv\")"
   ]
  },
  {
   "cell_type": "markdown",
   "metadata": {},
   "source": [
    "## International Data Only"
   ]
  },
  {
   "cell_type": "code",
   "execution_count": 14,
   "metadata": {},
   "outputs": [
    {
     "name": "stdout",
     "output_type": "stream",
     "text": [
      "IQR:  21.0\n",
      "LOW:  5.5\n",
      "HIGH:  89.5\n",
      "Q1:  37.0\n",
      "Q3:  58.0\n"
     ]
    },
    {
     "data": {
      "image/png": "[encoded data removed]",
      "text/plain": [
       "<Figure size 432x288 with 1 Axes>"
      ]
     },
     "metadata": {
      "needs_background": "light"
     },
     "output_type": "display_data"
    },
    {
     "name": "stdout",
     "output_type": "stream",
     "text": [
      "LINEAR REGRESSION\n",
      "---------------------------------\n",
      "Exact Answer Accuracy: 2.64%\n",
      "Accuracy with +/- 5 Spread: 23.23%\n",
      "Accuracy with +/- 10 Spread: 47.71%\n",
      "Accuracy with +/- 15 Spread: 64.26%\n",
      "Root Mean Squared Error: 16.46\n",
      "\n",
      "\n",
      "RANDOM FOREST REGRESSION\n",
      "---------------------------------\n",
      "Accuracy: 2.09%\n",
      "Accuracy with +/- 5 Spread: 24.06%\n",
      "Accuracy with +/- 10 Spread: 47.01%\n",
      "Accuracy with +/- 15 Spread: 65.09%\n",
      "Root Mean Squared Error: 16.55\n",
      "\n",
      "\n",
      "XGBOOST REGRESSION\n",
      "---------------------------------\n",
      "Accuracy: 3.34%\n",
      "Accuracy with +/- 5 Spread: 22.95%\n",
      "Accuracy with +/- 10 Spread: 46.87%\n",
      "Accuracy with +/- 15 Spread: 65.23%\n",
      "Root Mean Squared Error: 17.63\n",
      "\n",
      "\n",
      "Epoch 00188: early stopping\n",
      "NEURAL NETWORK REGRESSION\n",
      "---------------------------------\n",
      "Root Mean Squared Error: 0.15\n",
      "\n",
      "\n",
      "Epoch 00365: early stopping\n",
      "NEURAL NETWORK REGRESSION - Model 2\n",
      "---------------------------------\n",
      "Root Mean Squared Error: 0.17\n",
      "\n",
      "\n"
     ]
    }
   ],
   "source": [
    "run_all(df_int)"
   ]
  },
  {
   "cell_type": "markdown",
   "metadata": {},
   "source": [
    "## Premier Tournaments and International Data"
   ]
  },
  {
   "cell_type": "code",
   "execution_count": 15,
   "metadata": {},
   "outputs": [
    {
     "name": "stdout",
     "output_type": "stream",
     "text": [
      "IQR:  21.0\n",
      "LOW:  5.5\n",
      "HIGH:  89.5\n",
      "Q1:  37.0\n",
      "Q3:  58.0\n"
     ]
    },
    {
     "data": {
      "image/png": "[encoded data removed]",
      "text/plain": [
       "<Figure size 432x288 with 1 Axes>"
      ]
     },
     "metadata": {
      "needs_background": "light"
     },
     "output_type": "display_data"
    },
    {
     "name": "stdout",
     "output_type": "stream",
     "text": [
      "LINEAR REGRESSION\n",
      "---------------------------------\n",
      "Exact Answer Accuracy: 2.32%\n",
      "Accuracy with +/- 5 Spread: 24.93%\n",
      "Accuracy with +/- 10 Spread: 47.65%\n",
      "Accuracy with +/- 15 Spread: 66.16%\n",
      "Root Mean Squared Error: 16.10\n",
      "\n",
      "\n",
      "RANDOM FOREST REGRESSION\n",
      "---------------------------------\n",
      "Accuracy: 2.27%\n",
      "Accuracy with +/- 5 Spread: 25.04%\n",
      "Accuracy with +/- 10 Spread: 47.36%\n",
      "Accuracy with +/- 15 Spread: 66.58%\n",
      "Root Mean Squared Error: 16.17\n",
      "\n",
      "\n",
      "XGBOOST REGRESSION\n",
      "---------------------------------\n",
      "Accuracy: 2.08%\n",
      "Accuracy with +/- 5 Spread: 22.06%\n",
      "Accuracy with +/- 10 Spread: 44.02%\n",
      "Accuracy with +/- 15 Spread: 63.21%\n",
      "Root Mean Squared Error: 17.68\n",
      "\n",
      "\n",
      "Epoch 00034: early stopping\n",
      "NEURAL NETWORK REGRESSION\n",
      "---------------------------------\n",
      "Root Mean Squared Error: 0.10\n",
      "\n",
      "\n",
      "Epoch 00248: early stopping\n",
      "NEURAL NETWORK REGRESSION - Model 2\n",
      "---------------------------------\n",
      "Root Mean Squared Error: 0.10\n",
      "\n",
      "\n"
     ]
    }
   ],
   "source": [
    "run_all(df_prem)"
   ]
  },
  {
   "cell_type": "markdown",
   "metadata": {},
   "source": [
    "## All Professional Matches in Dataset"
   ]
  },
  {
   "cell_type": "code",
   "execution_count": 16,
   "metadata": {},
   "outputs": [
    {
     "name": "stdout",
     "output_type": "stream",
     "text": [
      "IQR:  24.0\n",
      "LOW:  3.0\n",
      "HIGH:  99.0\n",
      "Q1:  39.0\n",
      "Q3:  63.0\n"
     ]
    },
    {
     "data": {
      "image/png": "[encoded data removed]",
      "text/plain": [
       "<Figure size 432x288 with 1 Axes>"
      ]
     },
     "metadata": {
      "needs_background": "light"
     },
     "output_type": "display_data"
    },
    {
     "name": "stdout",
     "output_type": "stream",
     "text": [
      "LINEAR REGRESSION\n",
      "---------------------------------\n",
      "Exact Answer Accuracy: 2.09%\n",
      "Accuracy with +/- 5 Spread: 21.37%\n",
      "Accuracy with +/- 10 Spread: 41.87%\n",
      "Accuracy with +/- 15 Spread: 59.69%\n",
      "Root Mean Squared Error: 18.35\n",
      "\n",
      "\n",
      "RANDOM FOREST REGRESSION\n",
      "---------------------------------\n",
      "Accuracy: 2.03%\n",
      "Accuracy with +/- 5 Spread: 21.22%\n",
      "Accuracy with +/- 10 Spread: 41.82%\n",
      "Accuracy with +/- 15 Spread: 60.25%\n",
      "Root Mean Squared Error: 18.19\n",
      "\n",
      "\n",
      "XGBOOST REGRESSION\n",
      "---------------------------------\n",
      "Accuracy: 2.25%\n",
      "Accuracy with +/- 5 Spread: 19.61%\n",
      "Accuracy with +/- 10 Spread: 40.14%\n",
      "Accuracy with +/- 15 Spread: 57.21%\n",
      "Root Mean Squared Error: 20.28\n",
      "\n",
      "\n",
      "Epoch 00081: early stopping\n",
      "NEURAL NETWORK REGRESSION\n",
      "---------------------------------\n",
      "Root Mean Squared Error: 0.11\n",
      "\n",
      "\n",
      "Epoch 00126: early stopping\n",
      "NEURAL NETWORK REGRESSION - Model 2\n",
      "---------------------------------\n",
      "Root Mean Squared Error: 0.11\n",
      "\n",
      "\n"
     ]
    }
   ],
   "source": [
    "## Some extra columns came in with the professional dataset, drop them and run_all\n",
    "\n",
    "df_prof = df_prof.drop(['Unnamed: 0.1.1', 'Unnamed: 0.1.1.1', 'Unnamed: 0.1.1.1.1'], axis=1)\n",
    "\n",
    "run_all(df_prof)"
   ]
  },
  {
   "cell_type": "code",
   "execution_count": null,
   "metadata": {},
   "outputs": [],
   "source": []
  }
 ],
 "metadata": {
  "kernelspec": {
   "display_name": "conda_python3",
   "language": "python",
   "name": "conda_python3"
  },
  "language_info": {
   "codemirror_mode": {
    "name": "ipython",
    "version": 3
   },
   "file_extension": ".py",
   "mimetype": "text/x-python",
   "name": "python",
   "nbconvert_exporter": "python",
   "pygments_lexer": "ipython3",
   "version": "3.6.5"
  }
 },
 "nbformat": 4,
 "nbformat_minor": 2
}
