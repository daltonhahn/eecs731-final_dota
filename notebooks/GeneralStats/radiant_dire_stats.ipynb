{
 "cells": [
  {
   "cell_type": "markdown",
   "metadata": {},
   "source": [
    "imports"
   ]
  },
  {
   "cell_type": "code",
   "execution_count": 1,
   "metadata": {},
   "outputs": [],
   "source": [
    "import pandas as pd\n",
    "import numpy as np\n",
    "import matplotlib.pyplot as plt"
   ]
  },
  {
   "cell_type": "markdown",
   "metadata": {},
   "source": [
    "constants"
   ]
  },
  {
   "cell_type": "code",
   "execution_count": 2,
   "metadata": {},
   "outputs": [],
   "source": [
    "pro_filename = r'https://dota-match-ids.s3.amazonaws.com/promatch_csvs/professional_promatch_data.csv'\n",
    "premier_filename = r'https://dota-match-ids.s3.amazonaws.com/promatch_csvs/premier_promatch_data.csv'\n",
    "intl_filename = r'https://dota-match-ids.s3.amazonaws.com/promatch_csvs/international_promatch_data.csv'"
   ]
  },
  {
   "cell_type": "markdown",
   "metadata": {},
   "source": [
    "read the csv files"
   ]
  },
  {
   "cell_type": "code",
   "execution_count": 3,
   "metadata": {},
   "outputs": [],
   "source": [
    "df_pro = pd.read_csv(pro_filename)\n",
    "df_premier = pd.read_csv(premier_filename)\n",
    "df_intl = pd.read_csv(intl_filename)"
   ]
  },
  {
   "cell_type": "markdown",
   "metadata": {},
   "source": [
    "display the data"
   ]
  },
  {
   "cell_type": "code",
   "execution_count": 4,
   "metadata": {},
   "outputs": [
    {
     "data": {
      "text/html": [
       "<div>\n",
       "<style scoped>\n",
       "    .dataframe tbody tr th:only-of-type {\n",
       "        vertical-align: middle;\n",
       "    }\n",
       "\n",
       "    .dataframe tbody tr th {\n",
       "        vertical-align: top;\n",
       "    }\n",
       "\n",
       "    .dataframe thead th {\n",
       "        text-align: right;\n",
       "    }\n",
       "</style>\n",
       "<table border=\"1\" class=\"dataframe\">\n",
       "  <thead>\n",
       "    <tr style=\"text-align: right;\">\n",
       "      <th></th>\n",
       "      <th>Unnamed: 0</th>\n",
       "      <th>match_id</th>\n",
       "      <th>duration</th>\n",
       "      <th>start_time</th>\n",
       "      <th>radiant_team_id</th>\n",
       "      <th>radiant_name</th>\n",
       "      <th>dire_team_id</th>\n",
       "      <th>dire_name</th>\n",
       "      <th>leagueid</th>\n",
       "      <th>league_name</th>\n",
       "      <th>series_id</th>\n",
       "      <th>series_type</th>\n",
       "      <th>radiant_score</th>\n",
       "      <th>dire_score</th>\n",
       "      <th>radiant_win</th>\n",
       "    </tr>\n",
       "  </thead>\n",
       "  <tbody>\n",
       "    <tr>\n",
       "      <td>0</td>\n",
       "      <td>0</td>\n",
       "      <td>5108885702</td>\n",
       "      <td>2665</td>\n",
       "      <td>1573480047</td>\n",
       "      <td>7314697.0</td>\n",
       "      <td>FIVE BROTHERS</td>\n",
       "      <td>7359442.0</td>\n",
       "      <td>Team Aspirations</td>\n",
       "      <td>11382</td>\n",
       "      <td>Asian DOTA2 Gold Occupation  Competition</td>\n",
       "      <td>385455.0</td>\n",
       "      <td>1.0</td>\n",
       "      <td>57</td>\n",
       "      <td>38</td>\n",
       "      <td>True</td>\n",
       "    </tr>\n",
       "    <tr>\n",
       "      <td>1</td>\n",
       "      <td>1</td>\n",
       "      <td>5108800438</td>\n",
       "      <td>2855</td>\n",
       "      <td>1573476138</td>\n",
       "      <td>7408440.0</td>\n",
       "      <td>Look For Smile</td>\n",
       "      <td>7467648.0</td>\n",
       "      <td>Punch gaming</td>\n",
       "      <td>11382</td>\n",
       "      <td>Asian DOTA2 Gold Occupation  Competition</td>\n",
       "      <td>385449.0</td>\n",
       "      <td>1.0</td>\n",
       "      <td>41</td>\n",
       "      <td>61</td>\n",
       "      <td>False</td>\n",
       "    </tr>\n",
       "    <tr>\n",
       "      <td>2</td>\n",
       "      <td>2</td>\n",
       "      <td>5108735167</td>\n",
       "      <td>2326</td>\n",
       "      <td>1573473148</td>\n",
       "      <td>7467648.0</td>\n",
       "      <td>Punch gaming</td>\n",
       "      <td>7408440.0</td>\n",
       "      <td>Look For Smile</td>\n",
       "      <td>11382</td>\n",
       "      <td>Asian DOTA2 Gold Occupation  Competition</td>\n",
       "      <td>385443.0</td>\n",
       "      <td>1.0</td>\n",
       "      <td>42</td>\n",
       "      <td>31</td>\n",
       "      <td>True</td>\n",
       "    </tr>\n",
       "    <tr>\n",
       "      <td>3</td>\n",
       "      <td>3</td>\n",
       "      <td>5108711156</td>\n",
       "      <td>2619</td>\n",
       "      <td>1573471726</td>\n",
       "      <td>7253435.0</td>\n",
       "      <td>Team Galaxy</td>\n",
       "      <td>6634461.0</td>\n",
       "      <td>Team Sincere</td>\n",
       "      <td>11263</td>\n",
       "      <td>Masters  Tournament</td>\n",
       "      <td>385430.0</td>\n",
       "      <td>1.0</td>\n",
       "      <td>39</td>\n",
       "      <td>44</td>\n",
       "      <td>False</td>\n",
       "    </tr>\n",
       "    <tr>\n",
       "      <td>4</td>\n",
       "      <td>4</td>\n",
       "      <td>5108703089</td>\n",
       "      <td>1431</td>\n",
       "      <td>1573471276</td>\n",
       "      <td>7443956.0</td>\n",
       "      <td>Black Knight</td>\n",
       "      <td>7451388.0</td>\n",
       "      <td>LieYing Team</td>\n",
       "      <td>11407</td>\n",
       "      <td>Elite Cup Season 2</td>\n",
       "      <td>385436.0</td>\n",
       "      <td>1.0</td>\n",
       "      <td>16</td>\n",
       "      <td>41</td>\n",
       "      <td>False</td>\n",
       "    </tr>\n",
       "  </tbody>\n",
       "</table>\n",
       "</div>"
      ],
      "text/plain": [
       "   Unnamed: 0    match_id  duration  start_time  radiant_team_id  \\\n",
       "0           0  5108885702      2665  1573480047        7314697.0   \n",
       "1           1  5108800438      2855  1573476138        7408440.0   \n",
       "2           2  5108735167      2326  1573473148        7467648.0   \n",
       "3           3  5108711156      2619  1573471726        7253435.0   \n",
       "4           4  5108703089      1431  1573471276        7443956.0   \n",
       "\n",
       "     radiant_name  dire_team_id         dire_name  leagueid  \\\n",
       "0   FIVE BROTHERS     7359442.0  Team Aspirations     11382   \n",
       "1  Look For Smile     7467648.0      Punch gaming     11382   \n",
       "2    Punch gaming     7408440.0    Look For Smile     11382   \n",
       "3     Team Galaxy     6634461.0      Team Sincere     11263   \n",
       "4    Black Knight     7451388.0      LieYing Team     11407   \n",
       "\n",
       "                                league_name  series_id  series_type  \\\n",
       "0  Asian DOTA2 Gold Occupation  Competition   385455.0          1.0   \n",
       "1  Asian DOTA2 Gold Occupation  Competition   385449.0          1.0   \n",
       "2  Asian DOTA2 Gold Occupation  Competition   385443.0          1.0   \n",
       "3                       Masters  Tournament   385430.0          1.0   \n",
       "4                        Elite Cup Season 2   385436.0          1.0   \n",
       "\n",
       "   radiant_score  dire_score  radiant_win  \n",
       "0             57          38         True  \n",
       "1             41          61        False  \n",
       "2             42          31         True  \n",
       "3             39          44        False  \n",
       "4             16          41        False  "
      ]
     },
     "execution_count": 4,
     "metadata": {},
     "output_type": "execute_result"
    }
   ],
   "source": [
    "df_pro.head()"
   ]
  },
  {
   "cell_type": "code",
   "execution_count": 5,
   "metadata": {},
   "outputs": [
    {
     "data": {
      "text/html": [
       "<div>\n",
       "<style scoped>\n",
       "    .dataframe tbody tr th:only-of-type {\n",
       "        vertical-align: middle;\n",
       "    }\n",
       "\n",
       "    .dataframe tbody tr th {\n",
       "        vertical-align: top;\n",
       "    }\n",
       "\n",
       "    .dataframe thead th {\n",
       "        text-align: right;\n",
       "    }\n",
       "</style>\n",
       "<table border=\"1\" class=\"dataframe\">\n",
       "  <thead>\n",
       "    <tr style=\"text-align: right;\">\n",
       "      <th></th>\n",
       "      <th>Unnamed: 0</th>\n",
       "      <th>match_id</th>\n",
       "      <th>duration</th>\n",
       "      <th>start_time</th>\n",
       "      <th>radiant_team_id</th>\n",
       "      <th>radiant_name</th>\n",
       "      <th>dire_team_id</th>\n",
       "      <th>dire_name</th>\n",
       "      <th>leagueid</th>\n",
       "      <th>league_name</th>\n",
       "      <th>series_id</th>\n",
       "      <th>series_type</th>\n",
       "      <th>radiant_score</th>\n",
       "      <th>dire_score</th>\n",
       "      <th>radiant_win</th>\n",
       "    </tr>\n",
       "  </thead>\n",
       "  <tbody>\n",
       "    <tr>\n",
       "      <td>0</td>\n",
       "      <td>0</td>\n",
       "      <td>4986461644</td>\n",
       "      <td>1474</td>\n",
       "      <td>1566733817</td>\n",
       "      <td>2586976.0</td>\n",
       "      <td>OG</td>\n",
       "      <td>2163.0</td>\n",
       "      <td>Team Liquid</td>\n",
       "      <td>10749</td>\n",
       "      <td>The International 2019</td>\n",
       "      <td>360940.0</td>\n",
       "      <td>2.0</td>\n",
       "      <td>20</td>\n",
       "      <td>11</td>\n",
       "      <td>True</td>\n",
       "    </tr>\n",
       "    <tr>\n",
       "      <td>1</td>\n",
       "      <td>1</td>\n",
       "      <td>4986362254</td>\n",
       "      <td>1403</td>\n",
       "      <td>1566730459</td>\n",
       "      <td>2163.0</td>\n",
       "      <td>Team Liquid</td>\n",
       "      <td>2586976.0</td>\n",
       "      <td>OG</td>\n",
       "      <td>10749</td>\n",
       "      <td>The International 2019</td>\n",
       "      <td>360940.0</td>\n",
       "      <td>2.0</td>\n",
       "      <td>11</td>\n",
       "      <td>36</td>\n",
       "      <td>False</td>\n",
       "    </tr>\n",
       "    <tr>\n",
       "      <td>2</td>\n",
       "      <td>2</td>\n",
       "      <td>4986260666</td>\n",
       "      <td>1945</td>\n",
       "      <td>1566726706</td>\n",
       "      <td>2163.0</td>\n",
       "      <td>Team Liquid</td>\n",
       "      <td>2586976.0</td>\n",
       "      <td>OG</td>\n",
       "      <td>10749</td>\n",
       "      <td>The International 2019</td>\n",
       "      <td>360940.0</td>\n",
       "      <td>2.0</td>\n",
       "      <td>11</td>\n",
       "      <td>40</td>\n",
       "      <td>False</td>\n",
       "    </tr>\n",
       "    <tr>\n",
       "      <td>3</td>\n",
       "      <td>3</td>\n",
       "      <td>4986133311</td>\n",
       "      <td>2914</td>\n",
       "      <td>1566721992</td>\n",
       "      <td>2163.0</td>\n",
       "      <td>Team Liquid</td>\n",
       "      <td>2586976.0</td>\n",
       "      <td>OG</td>\n",
       "      <td>10749</td>\n",
       "      <td>The International 2019</td>\n",
       "      <td>360940.0</td>\n",
       "      <td>2.0</td>\n",
       "      <td>33</td>\n",
       "      <td>24</td>\n",
       "      <td>True</td>\n",
       "    </tr>\n",
       "    <tr>\n",
       "      <td>4</td>\n",
       "      <td>4</td>\n",
       "      <td>4985891168</td>\n",
       "      <td>2194</td>\n",
       "      <td>1566713543</td>\n",
       "      <td>15.0</td>\n",
       "      <td>PSG.LGD</td>\n",
       "      <td>2163.0</td>\n",
       "      <td>Team Liquid</td>\n",
       "      <td>10749</td>\n",
       "      <td>The International 2019</td>\n",
       "      <td>360881.0</td>\n",
       "      <td>1.0</td>\n",
       "      <td>8</td>\n",
       "      <td>30</td>\n",
       "      <td>False</td>\n",
       "    </tr>\n",
       "  </tbody>\n",
       "</table>\n",
       "</div>"
      ],
      "text/plain": [
       "   Unnamed: 0    match_id  duration  start_time  radiant_team_id radiant_name  \\\n",
       "0           0  4986461644      1474  1566733817        2586976.0           OG   \n",
       "1           1  4986362254      1403  1566730459           2163.0  Team Liquid   \n",
       "2           2  4986260666      1945  1566726706           2163.0  Team Liquid   \n",
       "3           3  4986133311      2914  1566721992           2163.0  Team Liquid   \n",
       "4           4  4985891168      2194  1566713543             15.0      PSG.LGD   \n",
       "\n",
       "   dire_team_id    dire_name  leagueid             league_name  series_id  \\\n",
       "0        2163.0  Team Liquid     10749  The International 2019   360940.0   \n",
       "1     2586976.0           OG     10749  The International 2019   360940.0   \n",
       "2     2586976.0           OG     10749  The International 2019   360940.0   \n",
       "3     2586976.0           OG     10749  The International 2019   360940.0   \n",
       "4        2163.0  Team Liquid     10749  The International 2019   360881.0   \n",
       "\n",
       "   series_type  radiant_score  dire_score  radiant_win  \n",
       "0          2.0             20          11         True  \n",
       "1          2.0             11          36        False  \n",
       "2          2.0             11          40        False  \n",
       "3          2.0             33          24         True  \n",
       "4          1.0              8          30        False  "
      ]
     },
     "execution_count": 5,
     "metadata": {},
     "output_type": "execute_result"
    }
   ],
   "source": [
    "df_premier.head()"
   ]
  },
  {
   "cell_type": "code",
   "execution_count": 6,
   "metadata": {},
   "outputs": [
    {
     "data": {
      "text/html": [
       "<div>\n",
       "<style scoped>\n",
       "    .dataframe tbody tr th:only-of-type {\n",
       "        vertical-align: middle;\n",
       "    }\n",
       "\n",
       "    .dataframe tbody tr th {\n",
       "        vertical-align: top;\n",
       "    }\n",
       "\n",
       "    .dataframe thead th {\n",
       "        text-align: right;\n",
       "    }\n",
       "</style>\n",
       "<table border=\"1\" class=\"dataframe\">\n",
       "  <thead>\n",
       "    <tr style=\"text-align: right;\">\n",
       "      <th></th>\n",
       "      <th>Unnamed: 0</th>\n",
       "      <th>match_id</th>\n",
       "      <th>duration</th>\n",
       "      <th>start_time</th>\n",
       "      <th>radiant_team_id</th>\n",
       "      <th>radiant_name</th>\n",
       "      <th>dire_team_id</th>\n",
       "      <th>dire_name</th>\n",
       "      <th>leagueid</th>\n",
       "      <th>league_name</th>\n",
       "      <th>series_id</th>\n",
       "      <th>series_type</th>\n",
       "      <th>radiant_score</th>\n",
       "      <th>dire_score</th>\n",
       "      <th>radiant_win</th>\n",
       "    </tr>\n",
       "  </thead>\n",
       "  <tbody>\n",
       "    <tr>\n",
       "      <td>0</td>\n",
       "      <td>0</td>\n",
       "      <td>4986461644</td>\n",
       "      <td>1474</td>\n",
       "      <td>1566733817</td>\n",
       "      <td>2586976.0</td>\n",
       "      <td>OG</td>\n",
       "      <td>2163.0</td>\n",
       "      <td>Team Liquid</td>\n",
       "      <td>10749</td>\n",
       "      <td>The International 2019</td>\n",
       "      <td>360940.0</td>\n",
       "      <td>2.0</td>\n",
       "      <td>20</td>\n",
       "      <td>11</td>\n",
       "      <td>True</td>\n",
       "    </tr>\n",
       "    <tr>\n",
       "      <td>1</td>\n",
       "      <td>1</td>\n",
       "      <td>4986362254</td>\n",
       "      <td>1403</td>\n",
       "      <td>1566730459</td>\n",
       "      <td>2163.0</td>\n",
       "      <td>Team Liquid</td>\n",
       "      <td>2586976.0</td>\n",
       "      <td>OG</td>\n",
       "      <td>10749</td>\n",
       "      <td>The International 2019</td>\n",
       "      <td>360940.0</td>\n",
       "      <td>2.0</td>\n",
       "      <td>11</td>\n",
       "      <td>36</td>\n",
       "      <td>False</td>\n",
       "    </tr>\n",
       "    <tr>\n",
       "      <td>2</td>\n",
       "      <td>2</td>\n",
       "      <td>4986260666</td>\n",
       "      <td>1945</td>\n",
       "      <td>1566726706</td>\n",
       "      <td>2163.0</td>\n",
       "      <td>Team Liquid</td>\n",
       "      <td>2586976.0</td>\n",
       "      <td>OG</td>\n",
       "      <td>10749</td>\n",
       "      <td>The International 2019</td>\n",
       "      <td>360940.0</td>\n",
       "      <td>2.0</td>\n",
       "      <td>11</td>\n",
       "      <td>40</td>\n",
       "      <td>False</td>\n",
       "    </tr>\n",
       "    <tr>\n",
       "      <td>3</td>\n",
       "      <td>3</td>\n",
       "      <td>4986133311</td>\n",
       "      <td>2914</td>\n",
       "      <td>1566721992</td>\n",
       "      <td>2163.0</td>\n",
       "      <td>Team Liquid</td>\n",
       "      <td>2586976.0</td>\n",
       "      <td>OG</td>\n",
       "      <td>10749</td>\n",
       "      <td>The International 2019</td>\n",
       "      <td>360940.0</td>\n",
       "      <td>2.0</td>\n",
       "      <td>33</td>\n",
       "      <td>24</td>\n",
       "      <td>True</td>\n",
       "    </tr>\n",
       "    <tr>\n",
       "      <td>4</td>\n",
       "      <td>4</td>\n",
       "      <td>4985891168</td>\n",
       "      <td>2194</td>\n",
       "      <td>1566713543</td>\n",
       "      <td>15.0</td>\n",
       "      <td>PSG.LGD</td>\n",
       "      <td>2163.0</td>\n",
       "      <td>Team Liquid</td>\n",
       "      <td>10749</td>\n",
       "      <td>The International 2019</td>\n",
       "      <td>360881.0</td>\n",
       "      <td>1.0</td>\n",
       "      <td>8</td>\n",
       "      <td>30</td>\n",
       "      <td>False</td>\n",
       "    </tr>\n",
       "  </tbody>\n",
       "</table>\n",
       "</div>"
      ],
      "text/plain": [
       "   Unnamed: 0    match_id  duration  start_time  radiant_team_id radiant_name  \\\n",
       "0           0  4986461644      1474  1566733817        2586976.0           OG   \n",
       "1           1  4986362254      1403  1566730459           2163.0  Team Liquid   \n",
       "2           2  4986260666      1945  1566726706           2163.0  Team Liquid   \n",
       "3           3  4986133311      2914  1566721992           2163.0  Team Liquid   \n",
       "4           4  4985891168      2194  1566713543             15.0      PSG.LGD   \n",
       "\n",
       "   dire_team_id    dire_name  leagueid             league_name  series_id  \\\n",
       "0        2163.0  Team Liquid     10749  The International 2019   360940.0   \n",
       "1     2586976.0           OG     10749  The International 2019   360940.0   \n",
       "2     2586976.0           OG     10749  The International 2019   360940.0   \n",
       "3     2586976.0           OG     10749  The International 2019   360940.0   \n",
       "4        2163.0  Team Liquid     10749  The International 2019   360881.0   \n",
       "\n",
       "   series_type  radiant_score  dire_score  radiant_win  \n",
       "0          2.0             20          11         True  \n",
       "1          2.0             11          36        False  \n",
       "2          2.0             11          40        False  \n",
       "3          2.0             33          24         True  \n",
       "4          1.0              8          30        False  "
      ]
     },
     "execution_count": 6,
     "metadata": {},
     "output_type": "execute_result"
    }
   ],
   "source": [
    "df_intl.head()"
   ]
  },
  {
   "cell_type": "markdown",
   "metadata": {},
   "source": [
    "Drop columns that aren't relevant to Dire or Radiant team classification "
   ]
  },
  {
   "cell_type": "code",
   "execution_count": 7,
   "metadata": {},
   "outputs": [],
   "source": [
    "df_pro = df_pro.drop(columns=['Unnamed: 0', 'duration', 'start_time', 'leagueid', 'league_name', 'series_id','series_type'], axis=1)\n",
    "df_premier = df_premier.drop(columns=['Unnamed: 0', 'duration', 'start_time', 'leagueid', 'league_name', 'series_id','series_type'], axis=1)\n",
    "df_intl = df_intl.drop(columns=['Unnamed: 0', 'duration', 'start_time', 'leagueid', 'league_name', 'series_id','series_type'], axis=1)"
   ]
  },
  {
   "cell_type": "markdown",
   "metadata": {},
   "source": [
    "Drop rows with missing values"
   ]
  },
  {
   "cell_type": "code",
   "execution_count": 8,
   "metadata": {},
   "outputs": [],
   "source": [
    "df_pro = df_pro.dropna(axis=0)\n",
    "df_premier = df_premier.dropna(axis=0)\n",
    "df_intl = df_intl.dropna(axis=0)"
   ]
  },
  {
   "cell_type": "markdown",
   "metadata": {},
   "source": [
    "Display the cleaned data sets"
   ]
  },
  {
   "cell_type": "code",
   "execution_count": 9,
   "metadata": {},
   "outputs": [
    {
     "data": {
      "text/html": [
       "<div>\n",
       "<style scoped>\n",
       "    .dataframe tbody tr th:only-of-type {\n",
       "        vertical-align: middle;\n",
       "    }\n",
       "\n",
       "    .dataframe tbody tr th {\n",
       "        vertical-align: top;\n",
       "    }\n",
       "\n",
       "    .dataframe thead th {\n",
       "        text-align: right;\n",
       "    }\n",
       "</style>\n",
       "<table border=\"1\" class=\"dataframe\">\n",
       "  <thead>\n",
       "    <tr style=\"text-align: right;\">\n",
       "      <th></th>\n",
       "      <th>match_id</th>\n",
       "      <th>radiant_team_id</th>\n",
       "      <th>radiant_name</th>\n",
       "      <th>dire_team_id</th>\n",
       "      <th>dire_name</th>\n",
       "      <th>radiant_score</th>\n",
       "      <th>dire_score</th>\n",
       "      <th>radiant_win</th>\n",
       "    </tr>\n",
       "  </thead>\n",
       "  <tbody>\n",
       "    <tr>\n",
       "      <td>0</td>\n",
       "      <td>5108885702</td>\n",
       "      <td>7314697.0</td>\n",
       "      <td>FIVE BROTHERS</td>\n",
       "      <td>7359442.0</td>\n",
       "      <td>Team Aspirations</td>\n",
       "      <td>57</td>\n",
       "      <td>38</td>\n",
       "      <td>True</td>\n",
       "    </tr>\n",
       "    <tr>\n",
       "      <td>1</td>\n",
       "      <td>5108800438</td>\n",
       "      <td>7408440.0</td>\n",
       "      <td>Look For Smile</td>\n",
       "      <td>7467648.0</td>\n",
       "      <td>Punch gaming</td>\n",
       "      <td>41</td>\n",
       "      <td>61</td>\n",
       "      <td>False</td>\n",
       "    </tr>\n",
       "    <tr>\n",
       "      <td>2</td>\n",
       "      <td>5108735167</td>\n",
       "      <td>7467648.0</td>\n",
       "      <td>Punch gaming</td>\n",
       "      <td>7408440.0</td>\n",
       "      <td>Look For Smile</td>\n",
       "      <td>42</td>\n",
       "      <td>31</td>\n",
       "      <td>True</td>\n",
       "    </tr>\n",
       "    <tr>\n",
       "      <td>3</td>\n",
       "      <td>5108711156</td>\n",
       "      <td>7253435.0</td>\n",
       "      <td>Team Galaxy</td>\n",
       "      <td>6634461.0</td>\n",
       "      <td>Team Sincere</td>\n",
       "      <td>39</td>\n",
       "      <td>44</td>\n",
       "      <td>False</td>\n",
       "    </tr>\n",
       "    <tr>\n",
       "      <td>4</td>\n",
       "      <td>5108703089</td>\n",
       "      <td>7443956.0</td>\n",
       "      <td>Black Knight</td>\n",
       "      <td>7451388.0</td>\n",
       "      <td>LieYing Team</td>\n",
       "      <td>16</td>\n",
       "      <td>41</td>\n",
       "      <td>False</td>\n",
       "    </tr>\n",
       "  </tbody>\n",
       "</table>\n",
       "</div>"
      ],
      "text/plain": [
       "     match_id  radiant_team_id    radiant_name  dire_team_id  \\\n",
       "0  5108885702        7314697.0   FIVE BROTHERS     7359442.0   \n",
       "1  5108800438        7408440.0  Look For Smile     7467648.0   \n",
       "2  5108735167        7467648.0    Punch gaming     7408440.0   \n",
       "3  5108711156        7253435.0     Team Galaxy     6634461.0   \n",
       "4  5108703089        7443956.0    Black Knight     7451388.0   \n",
       "\n",
       "          dire_name  radiant_score  dire_score  radiant_win  \n",
       "0  Team Aspirations             57          38         True  \n",
       "1      Punch gaming             41          61        False  \n",
       "2    Look For Smile             42          31         True  \n",
       "3      Team Sincere             39          44        False  \n",
       "4      LieYing Team             16          41        False  "
      ]
     },
     "execution_count": 9,
     "metadata": {},
     "output_type": "execute_result"
    }
   ],
   "source": [
    "df_pro.head()"
   ]
  },
  {
   "cell_type": "code",
   "execution_count": 10,
   "metadata": {},
   "outputs": [
    {
     "data": {
      "text/html": [
       "<div>\n",
       "<style scoped>\n",
       "    .dataframe tbody tr th:only-of-type {\n",
       "        vertical-align: middle;\n",
       "    }\n",
       "\n",
       "    .dataframe tbody tr th {\n",
       "        vertical-align: top;\n",
       "    }\n",
       "\n",
       "    .dataframe thead th {\n",
       "        text-align: right;\n",
       "    }\n",
       "</style>\n",
       "<table border=\"1\" class=\"dataframe\">\n",
       "  <thead>\n",
       "    <tr style=\"text-align: right;\">\n",
       "      <th></th>\n",
       "      <th>match_id</th>\n",
       "      <th>radiant_team_id</th>\n",
       "      <th>radiant_name</th>\n",
       "      <th>dire_team_id</th>\n",
       "      <th>dire_name</th>\n",
       "      <th>radiant_score</th>\n",
       "      <th>dire_score</th>\n",
       "      <th>radiant_win</th>\n",
       "    </tr>\n",
       "  </thead>\n",
       "  <tbody>\n",
       "    <tr>\n",
       "      <td>0</td>\n",
       "      <td>4986461644</td>\n",
       "      <td>2586976.0</td>\n",
       "      <td>OG</td>\n",
       "      <td>2163.0</td>\n",
       "      <td>Team Liquid</td>\n",
       "      <td>20</td>\n",
       "      <td>11</td>\n",
       "      <td>True</td>\n",
       "    </tr>\n",
       "    <tr>\n",
       "      <td>1</td>\n",
       "      <td>4986362254</td>\n",
       "      <td>2163.0</td>\n",
       "      <td>Team Liquid</td>\n",
       "      <td>2586976.0</td>\n",
       "      <td>OG</td>\n",
       "      <td>11</td>\n",
       "      <td>36</td>\n",
       "      <td>False</td>\n",
       "    </tr>\n",
       "    <tr>\n",
       "      <td>2</td>\n",
       "      <td>4986260666</td>\n",
       "      <td>2163.0</td>\n",
       "      <td>Team Liquid</td>\n",
       "      <td>2586976.0</td>\n",
       "      <td>OG</td>\n",
       "      <td>11</td>\n",
       "      <td>40</td>\n",
       "      <td>False</td>\n",
       "    </tr>\n",
       "    <tr>\n",
       "      <td>3</td>\n",
       "      <td>4986133311</td>\n",
       "      <td>2163.0</td>\n",
       "      <td>Team Liquid</td>\n",
       "      <td>2586976.0</td>\n",
       "      <td>OG</td>\n",
       "      <td>33</td>\n",
       "      <td>24</td>\n",
       "      <td>True</td>\n",
       "    </tr>\n",
       "    <tr>\n",
       "      <td>4</td>\n",
       "      <td>4985891168</td>\n",
       "      <td>15.0</td>\n",
       "      <td>PSG.LGD</td>\n",
       "      <td>2163.0</td>\n",
       "      <td>Team Liquid</td>\n",
       "      <td>8</td>\n",
       "      <td>30</td>\n",
       "      <td>False</td>\n",
       "    </tr>\n",
       "  </tbody>\n",
       "</table>\n",
       "</div>"
      ],
      "text/plain": [
       "     match_id  radiant_team_id radiant_name  dire_team_id    dire_name  \\\n",
       "0  4986461644        2586976.0           OG        2163.0  Team Liquid   \n",
       "1  4986362254           2163.0  Team Liquid     2586976.0           OG   \n",
       "2  4986260666           2163.0  Team Liquid     2586976.0           OG   \n",
       "3  4986133311           2163.0  Team Liquid     2586976.0           OG   \n",
       "4  4985891168             15.0      PSG.LGD        2163.0  Team Liquid   \n",
       "\n",
       "   radiant_score  dire_score  radiant_win  \n",
       "0             20          11         True  \n",
       "1             11          36        False  \n",
       "2             11          40        False  \n",
       "3             33          24         True  \n",
       "4              8          30        False  "
      ]
     },
     "execution_count": 10,
     "metadata": {},
     "output_type": "execute_result"
    }
   ],
   "source": [
    "df_premier.head()"
   ]
  },
  {
   "cell_type": "code",
   "execution_count": 11,
   "metadata": {
    "scrolled": true
   },
   "outputs": [
    {
     "data": {
      "text/html": [
       "<div>\n",
       "<style scoped>\n",
       "    .dataframe tbody tr th:only-of-type {\n",
       "        vertical-align: middle;\n",
       "    }\n",
       "\n",
       "    .dataframe tbody tr th {\n",
       "        vertical-align: top;\n",
       "    }\n",
       "\n",
       "    .dataframe thead th {\n",
       "        text-align: right;\n",
       "    }\n",
       "</style>\n",
       "<table border=\"1\" class=\"dataframe\">\n",
       "  <thead>\n",
       "    <tr style=\"text-align: right;\">\n",
       "      <th></th>\n",
       "      <th>match_id</th>\n",
       "      <th>radiant_team_id</th>\n",
       "      <th>radiant_name</th>\n",
       "      <th>dire_team_id</th>\n",
       "      <th>dire_name</th>\n",
       "      <th>radiant_score</th>\n",
       "      <th>dire_score</th>\n",
       "      <th>radiant_win</th>\n",
       "    </tr>\n",
       "  </thead>\n",
       "  <tbody>\n",
       "    <tr>\n",
       "      <td>0</td>\n",
       "      <td>4986461644</td>\n",
       "      <td>2586976.0</td>\n",
       "      <td>OG</td>\n",
       "      <td>2163.0</td>\n",
       "      <td>Team Liquid</td>\n",
       "      <td>20</td>\n",
       "      <td>11</td>\n",
       "      <td>True</td>\n",
       "    </tr>\n",
       "    <tr>\n",
       "      <td>1</td>\n",
       "      <td>4986362254</td>\n",
       "      <td>2163.0</td>\n",
       "      <td>Team Liquid</td>\n",
       "      <td>2586976.0</td>\n",
       "      <td>OG</td>\n",
       "      <td>11</td>\n",
       "      <td>36</td>\n",
       "      <td>False</td>\n",
       "    </tr>\n",
       "    <tr>\n",
       "      <td>2</td>\n",
       "      <td>4986260666</td>\n",
       "      <td>2163.0</td>\n",
       "      <td>Team Liquid</td>\n",
       "      <td>2586976.0</td>\n",
       "      <td>OG</td>\n",
       "      <td>11</td>\n",
       "      <td>40</td>\n",
       "      <td>False</td>\n",
       "    </tr>\n",
       "    <tr>\n",
       "      <td>3</td>\n",
       "      <td>4986133311</td>\n",
       "      <td>2163.0</td>\n",
       "      <td>Team Liquid</td>\n",
       "      <td>2586976.0</td>\n",
       "      <td>OG</td>\n",
       "      <td>33</td>\n",
       "      <td>24</td>\n",
       "      <td>True</td>\n",
       "    </tr>\n",
       "    <tr>\n",
       "      <td>4</td>\n",
       "      <td>4985891168</td>\n",
       "      <td>15.0</td>\n",
       "      <td>PSG.LGD</td>\n",
       "      <td>2163.0</td>\n",
       "      <td>Team Liquid</td>\n",
       "      <td>8</td>\n",
       "      <td>30</td>\n",
       "      <td>False</td>\n",
       "    </tr>\n",
       "  </tbody>\n",
       "</table>\n",
       "</div>"
      ],
      "text/plain": [
       "     match_id  radiant_team_id radiant_name  dire_team_id    dire_name  \\\n",
       "0  4986461644        2586976.0           OG        2163.0  Team Liquid   \n",
       "1  4986362254           2163.0  Team Liquid     2586976.0           OG   \n",
       "2  4986260666           2163.0  Team Liquid     2586976.0           OG   \n",
       "3  4986133311           2163.0  Team Liquid     2586976.0           OG   \n",
       "4  4985891168             15.0      PSG.LGD        2163.0  Team Liquid   \n",
       "\n",
       "   radiant_score  dire_score  radiant_win  \n",
       "0             20          11         True  \n",
       "1             11          36        False  \n",
       "2             11          40        False  \n",
       "3             33          24         True  \n",
       "4              8          30        False  "
      ]
     },
     "execution_count": 11,
     "metadata": {},
     "output_type": "execute_result"
    }
   ],
   "source": [
    "df_intl.head()"
   ]
  },
  {
   "cell_type": "markdown",
   "metadata": {},
   "source": [
    "First we'll just examine the raw win percentages"
   ]
  },
  {
   "cell_type": "markdown",
   "metadata": {},
   "source": [
    "Count the number of radiant wins and dire wins per league"
   ]
  },
  {
   "cell_type": "code",
   "execution_count": 12,
   "metadata": {},
   "outputs": [],
   "source": [
    "pro_radiant_wins = df_pro[df_pro.radiant_win == True].shape[0]\n",
    "pro_dire_wins = df_pro[df_pro.radiant_win == False].shape[0]\n",
    "\n",
    "premier_radiant_wins = df_premier[df_premier.radiant_win == True].shape[0]\n",
    "premier_dire_wins = df_premier[df_premier.radiant_win == False].shape[0]\n",
    "\n",
    "intl_radiant_wins = df_intl[df_intl.radiant_win == True].shape[0]\n",
    "intl_dire_wins = df_intl[df_intl.radiant_win == False].shape[0]"
   ]
  },
  {
   "cell_type": "markdown",
   "metadata": {},
   "source": [
    "Plot the number of wins per team per league"
   ]
  },
  {
   "cell_type": "code",
   "execution_count": 13,
   "metadata": {},
   "outputs": [
    {
     "data": {
      "image/png": "[encoded data removed]",
      "text/plain": [
       "<Figure size 1152x360 with 3 Axes>"
      ]
     },
     "metadata": {
      "needs_background": "light"
     },
     "output_type": "display_data"
    }
   ],
   "source": [
    "fig, (ax1, ax2, ax3) = plt.subplots(1, 3, figsize=(16,5))\n",
    "teams = ['Radiant', 'Dire']\n",
    "wins = [pro_radiant_wins, pro_dire_wins, premier_radiant_wins, premier_dire_wins, intl_radiant_wins, intl_dire_wins]\n",
    "ax1.bar(teams[0], wins[0], color='b')\n",
    "ax1.bar(teams[1], wins[1], color='r')\n",
    "ax2.bar(teams[0], wins[2], color='b')\n",
    "ax2.bar(teams[1], wins[3], color='r')\n",
    "ax3.bar(teams[0], wins[4], color='b')\n",
    "ax3.bar(teams[1], wins[5], color='r')\n",
    "ax1.set_title(\"Professional League\")\n",
    "ax2.set_title(\"Premier League\")\n",
    "ax3.set_title(\"International\")\n",
    "ax1.set_ylabel(\"Number of Wins\")\n",
    "ax2.set_ylabel(\"Number of Wins\")\n",
    "ax3.set_ylabel(\"Number of Wins\")\n",
    "fig.suptitle(\"Radiant vs. Dire Wins\")\n",
    "plt.show()"
   ]
  },
  {
   "cell_type": "markdown",
   "metadata": {},
   "source": [
    "Calculate the numerical difference between the number of wins for each league"
   ]
  },
  {
   "cell_type": "code",
   "execution_count": 14,
   "metadata": {},
   "outputs": [],
   "source": [
    "pro_diff = pro_radiant_wins - pro_dire_wins\n",
    "premier_diff = premier_radiant_wins - premier_dire_wins\n",
    "intl_diff = intl_radiant_wins - intl_dire_wins"
   ]
  },
  {
   "cell_type": "markdown",
   "metadata": {},
   "source": [
    "Calculate the ratio of radiant wins to dire winsfor each league"
   ]
  },
  {
   "cell_type": "code",
   "execution_count": 15,
   "metadata": {},
   "outputs": [],
   "source": [
    "pro_ratio = np.round(pro_radiant_wins / pro_dire_wins, decimals=3)\n",
    "premier_ratio = np.round(premier_radiant_wins / premier_dire_wins, decimals=3)\n",
    "intl_ratio = np.round(intl_radiant_wins / intl_dire_wins, decimals=3)"
   ]
  },
  {
   "cell_type": "markdown",
   "metadata": {},
   "source": [
    "Display the difference"
   ]
  },
  {
   "cell_type": "code",
   "execution_count": 16,
   "metadata": {},
   "outputs": [
    {
     "name": "stdout",
     "output_type": "stream",
     "text": [
      "Difference Between Radiant vs. Dire Wins\n",
      "\tProfessional League\n",
      "\t\tRadiant +1738 wins over Dire\n",
      "\t\tRatio: 1.057\n",
      "\tPremier League\n",
      "\t\tRadiant +597 wins over Dire\n",
      "\t\tRatio: 1.08\n",
      "\tInternational\n",
      "\t\tRadiant +67 wins over Dire\n",
      "\t\tRatio: 1.052\n"
     ]
    }
   ],
   "source": [
    "print('Difference Between Radiant vs. Dire Wins')\n",
    "print('\\tProfessional League')\n",
    "print('\\t\\tRadiant +{} wins over Dire'.format(pro_diff))\n",
    "print('\\t\\tRatio: {}'.format(pro_ratio))\n",
    "print('\\tPremier League')\n",
    "print('\\t\\tRadiant +{} wins over Dire'.format(premier_diff))\n",
    "print('\\t\\tRatio: {}'.format(premier_ratio))\n",
    "print('\\tInternational')\n",
    "print('\\t\\tRadiant +{} wins over Dire'.format(intl_diff))\n",
    "print('\\t\\tRatio: {}'.format(intl_ratio))"
   ]
  },
  {
   "cell_type": "markdown",
   "metadata": {},
   "source": [
    "This is pretty interesting. While small, both the bar plots and the ratios of Radiant wins to Dire wins show that teams under the Radiant name win slightly more games than Dire teams. And the ratio of Radiant wins to Dire wins for each of the three levels of play are also similar. This may indicate that the hero-picking strategy may not be completely fair or there is another in-game factor leading to a small, but fairly consistent difference in the number of Radiant wins vs. Dire wins."
   ]
  },
  {
   "cell_type": "markdown",
   "metadata": {},
   "source": [
    "Now let's look at points scored per team per league"
   ]
  },
  {
   "cell_type": "markdown",
   "metadata": {},
   "source": [
    "Calculate the mean score for each team for each league"
   ]
  },
  {
   "cell_type": "code",
   "execution_count": 17,
   "metadata": {},
   "outputs": [],
   "source": [
    "pro_radiant_mean = df_pro['radiant_score'].mean()\n",
    "pro_dire_mean = df_pro['dire_score'].mean()\n",
    "\n",
    "premier_radiant_mean = df_premier['radiant_score'].mean()\n",
    "premier_dire_mean = df_premier['dire_score'].mean()\n",
    "\n",
    "intl_radiant_mean = df_intl['radiant_score'].mean()\n",
    "intl_dire_mean = df_intl['dire_score'].mean()"
   ]
  },
  {
   "cell_type": "markdown",
   "metadata": {},
   "source": [
    "Calculate the median of scores for each team for each league"
   ]
  },
  {
   "cell_type": "code",
   "execution_count": 18,
   "metadata": {},
   "outputs": [],
   "source": [
    "pro_radiant_median = df_pro['radiant_score'].median()\n",
    "pro_dire_median = df_pro['dire_score'].median()\n",
    "\n",
    "premier_radiant_median = df_premier['radiant_score'].median()\n",
    "premier_dire_median = df_premier['dire_score'].median()\n",
    "\n",
    "intl_radiant_median = df_intl['radiant_score'].median()\n",
    "intl_dire_median = df_intl['dire_score'].median()"
   ]
  },
  {
   "cell_type": "markdown",
   "metadata": {},
   "source": [
    "Calculate the standard deviation of scores for each team for each league"
   ]
  },
  {
   "cell_type": "code",
   "execution_count": 19,
   "metadata": {},
   "outputs": [],
   "source": [
    "pro_radiant_std = df_pro['radiant_score'].std()\n",
    "pro_dire_std = df_pro['dire_score'].std()\n",
    "\n",
    "premier_radiant_std = df_premier['radiant_score'].std()\n",
    "premier_dire_std = df_premier['dire_score'].std()\n",
    "\n",
    "intl_radiant_std = df_intl['radiant_score'].std()\n",
    "intl_dire_std = df_intl['dire_score'].std()"
   ]
  },
  {
   "cell_type": "markdown",
   "metadata": {},
   "source": [
    "Calculate the variance of scores for each team for each league"
   ]
  },
  {
   "cell_type": "code",
   "execution_count": 20,
   "metadata": {},
   "outputs": [],
   "source": [
    "pro_radiant_var = np.round(df_pro['radiant_score'].var(), decimals=3)\n",
    "pro_dire_var = np.round(df_pro['dire_score'].var(), decimals=3)\n",
    "\n",
    "premier_radiant_var = np.round(df_premier['radiant_score'].var(), decimals=3)\n",
    "premier_dire_var = np.round(df_premier['dire_score'].var(), decimals=3)\n",
    "\n",
    "intl_radiant_var = np.round(df_intl['radiant_score'].var(), decimals=3)\n",
    "intl_dire_var = np.round(df_intl['dire_score'].var(), decimals=3)"
   ]
  },
  {
   "cell_type": "markdown",
   "metadata": {},
   "source": [
    "Calculate the max scores for each team for each league"
   ]
  },
  {
   "cell_type": "code",
   "execution_count": 21,
   "metadata": {},
   "outputs": [],
   "source": [
    "pro_radiant_max = df_pro['radiant_score'].max()\n",
    "pro_dire_max = df_pro['dire_score'].max()\n",
    "\n",
    "premier_radiant_max = df_premier['radiant_score'].max()\n",
    "premier_dire_max = df_premier['dire_score'].max()\n",
    "\n",
    "intl_radiant_max = df_intl['radiant_score'].max()\n",
    "intl_dire_max = df_intl['dire_score'].max()"
   ]
  },
  {
   "cell_type": "markdown",
   "metadata": {},
   "source": [
    "Calculate the min scores for each team for each league"
   ]
  },
  {
   "cell_type": "markdown",
   "metadata": {},
   "source": [
    "Plot the statistics regarding the scores"
   ]
  },
  {
   "cell_type": "code",
   "execution_count": 22,
   "metadata": {},
   "outputs": [
    {
     "data": {
      "image/png": "[encoded data removed]",
      "text/plain": [
       "<Figure size 1152x360 with 3 Axes>"
      ]
     },
     "metadata": {
      "needs_background": "light"
     },
     "output_type": "display_data"
    }
   ],
   "source": [
    "fig, (ax1, ax2, ax3) = plt.subplots(1, 3, figsize=(16,5))\n",
    "x = range(10)\n",
    "ax1.plot(x, [pro_radiant_mean for _ in range(10)], color='b', linestyle='-', label='Radiant Mean')\n",
    "ax1.plot(x, [pro_dire_mean for _ in range(10)], color='r', linestyle='-', label='Dire Mean')\n",
    "ax1.plot(x, [pro_radiant_std for _ in range(10)], color='b', linestyle='--', label='Radiant Std')\n",
    "ax1.plot(x, [pro_dire_std for _ in range(10)], color='r', linestyle='--', label='Dire Std')\n",
    "ax1.plot(x, [pro_radiant_median for _ in range(10)], color='b', linestyle='-.', label='Radiant Median')\n",
    "ax1.plot(x, [pro_dire_median for _ in range(10)], color='r', linestyle='-.', label='Dire Median')\n",
    "\n",
    "ax2.plot(x, [premier_radiant_mean for _ in range(10)], color='b', linestyle='-', label='Radiant Mean')\n",
    "ax2.plot(x, [premier_dire_mean for _ in range(10)], color='r', linestyle='-', label='Dire Mean')\n",
    "ax2.plot(x, [premier_radiant_std for _ in range(10)], color='b', linestyle='--', label='Radiant Std')\n",
    "ax2.plot(x, [premier_dire_std for _ in range(10)], color='r', linestyle='--', label='Dire Std')\n",
    "ax2.plot(x, [premier_radiant_median for _ in range(10)], color='b', linestyle='-.', label='Radiant Median')\n",
    "ax2.plot(x, [premier_dire_median for _ in range(10)], color='r', linestyle='-.', label='Dire Median')\n",
    "\n",
    "ax3.plot(x, [intl_radiant_mean for _ in range(10)], color='b', linestyle='-', label='Radiant Mean')\n",
    "ax3.plot(x, [intl_dire_mean for _ in range(10)], color='r', linestyle='-', label='Dire Mean')\n",
    "ax3.plot(x, [intl_radiant_std for _ in range(10)], color='b', linestyle='--', label='Radiant Std')\n",
    "ax3.plot(x, [intl_dire_std for _ in range(10)], color='r', linestyle='--', label='Dire Std')\n",
    "ax3.plot(x, [intl_radiant_median for _ in range(10)], color='b', linestyle='-.', label='Radiant Median')\n",
    "ax3.plot(x, [intl_dire_median for _ in range(10)], color='r', linestyle='-.', label='Dire Median')\n",
    "\n",
    "ax1.set_title(\"Professional League\")\n",
    "ax2.set_title(\"Premier League\")\n",
    "ax3.set_title(\"International\")\n",
    "ax1.set_ylabel(\"Score\")\n",
    "ax2.set_ylabel(\"Score\")\n",
    "ax3.set_ylabel(\"Score\")\n",
    "ax1.set_ylim([7,17])\n",
    "ax2.set_ylim([7,17])\n",
    "ax3.set_ylim([7,17])\n",
    "ax1.legend(loc=\"lower right\")\n",
    "ax2.legend(loc=\"lower right\")\n",
    "ax3.legend(loc=\"lower right\")\n",
    "plt.setp(ax1.get_xticklabels(), visible=False)\n",
    "plt.setp(ax2.get_xticklabels(), visible=False)\n",
    "plt.setp(ax3.get_xticklabels(), visible=False)\n",
    "fig.suptitle(\"Radiant vs. Dire Score Statistics\")\n",
    "plt.show()"
   ]
  },
  {
   "cell_type": "markdown",
   "metadata": {},
   "source": [
    "Things to note from these plots:\n",
    " - The average and median of Radiant teams in all 3 levels of play are higher than those of Dire teams\n",
    " - The standard deviations of both teams are similar to each other in all three leagues\n",
    " - In all three leagues, the median scores are lower than the mean scores"
   ]
  },
  {
   "cell_type": "markdown",
   "metadata": {},
   "source": [
    "Print out the variance of the scores for each team for each league"
   ]
  },
  {
   "cell_type": "code",
   "execution_count": 23,
   "metadata": {},
   "outputs": [
    {
     "name": "stdout",
     "output_type": "stream",
     "text": [
      "Variance of Radiant Scores and Dire Scores\n",
      "\tProfessional League\n",
      "\t\tRadiant Variance: 254.914\n",
      "\t\tDire Variance: 261.277\n",
      "\tPremier League\n",
      "\t\tRadiant Variance: 215.68\n",
      "\t\tDire Variance: 214.278\n",
      "\tInternational\n",
      "\t\tRadiant Variance: 220.299\n",
      "\t\tDire Variance: 219.649\n"
     ]
    }
   ],
   "source": [
    "print('Variance of Radiant Scores and Dire Scores')\n",
    "print('\\tProfessional League')\n",
    "print('\\t\\tRadiant Variance: {}'.format(pro_radiant_var))\n",
    "print('\\t\\tDire Variance: {}'.format(pro_dire_var))\n",
    "print('\\tPremier League')\n",
    "print('\\t\\tRadiant Variance: {}'.format(premier_radiant_var))\n",
    "print('\\t\\tDire Variance: {}'.format(premier_dire_var))\n",
    "print('\\tInternational')\n",
    "print('\\t\\tRadiant Variance: {}'.format(intl_radiant_var))\n",
    "print('\\t\\tDire Variance: {}'.format(intl_dire_var))"
   ]
  },
  {
   "cell_type": "markdown",
   "metadata": {},
   "source": [
    "The variances of each of the teams in the three levels of play are all fairly high and are all of the same magnitude. The variance doesn't seem to tell us much about the scores."
   ]
  },
  {
   "cell_type": "markdown",
   "metadata": {},
   "source": [
    "Print out the max scores for each team for each league"
   ]
  },
  {
   "cell_type": "code",
   "execution_count": 24,
   "metadata": {},
   "outputs": [
    {
     "name": "stdout",
     "output_type": "stream",
     "text": [
      "Maximum Score of Radiant and Dire Teams\n",
      "\tProfessional League\n",
      "\t\tRadiant Maximum Score: 89\n",
      "\t\tDire Maximum Score: 97\n",
      "\tPremier League\n",
      "\t\tRadiant Maximum Score: 82\n",
      "\t\tDire Maximum Score: 83\n",
      "\tInternational\n",
      "\t\tRadiant Maximum Score: 63\n",
      "\t\tDire Maximum Score: 64\n"
     ]
    }
   ],
   "source": [
    "print('Maximum Score of Radiant and Dire Teams')\n",
    "print('\\tProfessional League')\n",
    "print('\\t\\tRadiant Maximum Score: {}'.format(pro_radiant_max))\n",
    "print('\\t\\tDire Maximum Score: {}'.format(pro_dire_max))\n",
    "print('\\tPremier League')\n",
    "print('\\t\\tRadiant Maximum Score: {}'.format(premier_radiant_max))\n",
    "print('\\t\\tDire Maximum Score: {}'.format(premier_dire_max))\n",
    "print('\\tInternational')\n",
    "print('\\t\\tRadiant Maximum Score: {}'.format(intl_radiant_max))\n",
    "print('\\t\\tDire Maximum Score: {}'.format(intl_dire_max))"
   ]
  },
  {
   "cell_type": "markdown",
   "metadata": {},
   "source": [
    "This is interesting as well. Radiant teams in all three leagues of play actually had a lower maximum score than Dire teams, even though it appears that Radiant teams win more games than Dire teams do from my previous analysis. Also of note is that the maximum score of both Radiant and Dire teams falls as the level of play increases; this is presumably because teams get better at playing defense as they get better and increase their level of play."
   ]
  },
  {
   "cell_type": "markdown",
   "metadata": {},
   "source": [
    "Conclusions"
   ]
  },
  {
   "cell_type": "markdown",
   "metadata": {},
   "source": [
    "From my analysis, it does appear that Radiant teams do have a slight advantage over Dire teams as the data showed that Radiant teams win more games than Dire teams do at all 3 higher levels of play. This is also supported by the fact that the mean and median scores of Radiant teams are higher than those of Dire teams. Of interesting note, however; the maximum scores of Dire teams in all three levels of play were higher than the maximum scores of Radiant teams."
   ]
  },
  {
   "cell_type": "markdown",
   "metadata": {},
   "source": [
    "So Radiant teams may have an advantage, but where is it coming from? My first idea is that the picking strategy to set up the gameplay is slightly unfair. My second idea is that there is some other internal gameplay feature that makes it unfair. So I did some research on the internet."
   ]
  },
  {
   "cell_type": "markdown",
   "metadata": {},
   "source": [
    "The internet confirmed that there is, in fact, a win advantage for Radiant teams over Dire teams. One figure even said there was as high as a 9.6% advantage for Radiant teams over Dire teams. It also appears that there is a consensus on the cause of the advantage, and apparently it is perceived to be the way the game map is set up."
   ]
  }
 ],
 "metadata": {
  "kernelspec": {
   "display_name": "Python 3",
   "language": "python",
   "name": "python3"
  },
  "language_info": {
   "codemirror_mode": {
    "name": "ipython",
    "version": 3
   },
   "file_extension": ".py",
   "mimetype": "text/x-python",
   "name": "python",
   "nbconvert_exporter": "python",
   "pygments_lexer": "ipython3",
   "version": "3.7.4"
  },
  "varInspector": {
   "cols": {
    "lenName": 16,
    "lenType": 16,
    "lenVar": 40
   },
   "kernels_config": {
    "python": {
     "delete_cmd_postfix": "",
     "delete_cmd_prefix": "del ",
     "library": "var_list.py",
     "varRefreshCmd": "print(var_dic_list())"
    },
    "r": {
     "delete_cmd_postfix": ") ",
     "delete_cmd_prefix": "rm(",
     "library": "var_list.r",
     "varRefreshCmd": "cat(var_dic_list()) "
    }
   },
   "types_to_exclude": [
    "module",
    "function",
    "builtin_function_or_method",
    "instance",
    "_Feature"
   ],
   "window_display": false
  }
 },
 "nbformat": 4,
 "nbformat_minor": 2
}
