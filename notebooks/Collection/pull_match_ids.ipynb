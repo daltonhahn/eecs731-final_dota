{
 "cells": [
  {
   "cell_type": "code",
   "execution_count": 1,
   "metadata": {},
   "outputs": [
    {
     "name": "stdout",
     "output_type": "stream",
     "text": [
      "Collecting git+https://github.com/seraphli/od-python.git\n",
      "  Cloning https://github.com/seraphli/od-python.git to /tmp/pip-req-build-dnnjzwvm\n",
      "Requirement already satisfied (use --upgrade to upgrade): od-python==1.0.2 from git+https://github.com/seraphli/od-python.git in /home/ec2-user/anaconda3/envs/python3/lib/python3.6/site-packages\n",
      "Requirement already satisfied: urllib3>=1.15 in /home/ec2-user/anaconda3/envs/python3/lib/python3.6/site-packages (from od-python==1.0.2) (1.23)\n",
      "Requirement already satisfied: six>=1.10 in /home/ec2-user/anaconda3/envs/python3/lib/python3.6/site-packages (from od-python==1.0.2) (1.11.0)\n",
      "Requirement already satisfied: certifi in /home/ec2-user/anaconda3/envs/python3/lib/python3.6/site-packages (from od-python==1.0.2) (2019.6.16)\n",
      "Requirement already satisfied: python-dateutil in /home/ec2-user/anaconda3/envs/python3/lib/python3.6/site-packages (from od-python==1.0.2) (2.7.3)\n",
      "Building wheels for collected packages: od-python\n",
      "  Running setup.py bdist_wheel for od-python ... \u001b[?25ldone\n",
      "\u001b[?25h  Stored in directory: /tmp/pip-ephem-wheel-cache-39nwjjy6/wheels/96/a0/9d/73ecc0fedd17a4cb6134556ad3c0386645657647205cc7062e\n",
      "Successfully built od-python\n",
      "\u001b[33mYou are using pip version 10.0.1, however version 19.3.1 is available.\n",
      "You should consider upgrading via the 'pip install --upgrade pip' command.\u001b[0m\n"
     ]
    }
   ],
   "source": [
    "!pip install git+https://github.com/seraphli/od-python.git"
   ]
  },
  {
   "cell_type": "code",
   "execution_count": 2,
   "metadata": {},
   "outputs": [],
   "source": [
    "from __future__ import print_function\n",
    "import time\n",
    "import od_python\n",
    "from od_python.rest import ApiException\n",
    "from pprint import pprint"
   ]
  },
  {
   "cell_type": "code",
   "execution_count": 3,
   "metadata": {},
   "outputs": [],
   "source": [
    "premier_leagues = [\n",
    "    \"The International 2015\", \"The International 2017\", \"The International 2016\", \"The International 2013 Pass\",\n",
    "    \"The International 2019\", \"The International 2014\", \"The International 2018\", \"The International 2012\", \n",
    "    \"EPICENTER Major 2019\", \"MDL Disneyland® Paris Major\", \"DreamLeague Season 11\", \n",
    "    \"World Electronic Sports Games 2018-2019\", \"The Chongqing Major\", \"The Kuala Lumpur Major\",\n",
    "    \"CHINA DOTA2 SUPER MAJOR\", \"ESL One Birmingham 2018 powered by Intel\", \"MDL Changsha \",\n",
    "    \"EPICENTER XL\", \"Dota2 Asia Championships 2018\", \"World Electronic Sports Games 2018-2019\",\n",
    "    \"ESL One Katowice 2018 powered by Intel\", \"DreamLeague season 8\", \"ESL One Hamburg 2017\",\n",
    "    \"2017 Mars Dota 2 League\", \"NESO 4th National E-Sports ShenZhen Open Tournament- Galaxy Battles\",\n",
    "    \"EPICENTER: Moscow\", \"Zotac Cup Masters\", \"StarLadder | i-League\", \"Kiev Major\", \"Dota 2 Asia Championships 2017\",\n",
    "    \"Dota Pit League Season Five\", \"World Electronic Sports Games 2017\", \"ESL One Genting 2017\",\n",
    "    \"World Cyber Arena 2016 Grand Finals\", \"Northern Arena BEAT Invitational presented by Bell\",\n",
    "    \"The Summit 5\", \"Nanyang Championships Season2\", \"ESL One Frankfurt 2016\", \"The Manila Major 2016\",\n",
    "    \"EPICENTER: Moscow Season 2\", \"WePlay League Season 3\", \"ESL One Manila 2016\", \"Dota Pit League Season Four\",\n",
    "    \"2015 MarsTV Dota 2 League\", \"World Cyber Arena 2015 GRAND FINAL\", \"The Summit 4\", \"Nanyang Championships\",\n",
    "    \"MLG World Finals 2015\", \"ESL One New York\", \"Dota Pit League Season Three\", \"Esportal Dota 2 League\",\n",
    "    \"ESL One Frankfurt 2015\", \"ASUS ROG DreamLeague Season 3\", \"joinDOTA MLG Pro League Season 2\", \n",
    "    \"2015 MarsTV Dota 2 League\", \"SL i-League Invitational Season 3\", \"The Summit 3 \", \"Dota 2 Champions League\",\n",
    "    \"joinDOTA League\", \"Dota Pit League Season Two\", \"DotaCinema Presents the XMG Captains Draft 2.0\",\n",
    "    \"The Summit 2\", \"ASUS ROG DreamLeague Season 2\", \"DotA 2 Champions League Season 4\", \"Excellent Moscow Cup Season 2\",\n",
    "    \"ESL One New York\", \"ESL One Frankfurt 2014\", \"ASUS ROG DreamLeague Season 1\", \"The Summit\", \"Nexon Sponsorship League Season 3\",\n",
    "    \"G-League 2013\", \"Nexon Sponsorship League Season 2 & Gama Brothers Courier\", \"RaidCall EMS One Fall 2013\",\n",
    "    \"WePlay.TV Dota 2 League - Season 2\", \"2013 National Electronic Sports Tournament\", \"Nexon Sponsorship League\",\n",
    "    \"Electronic Sports World Cup 2013\", \"The Defense Season 4\", \"Premier League Season 5 \", \"RaidCall Dota 2 League Season 3\",\n",
    "    \"REDBULL Esports Champion League 2013\", \"RaidCall EMS One Summer 2013\", \"Alienware Cup - 2013 Season 1\",\n",
    "    \"Dota 2 Super League\", \"DreamHack ASUS ROG Dota 2 Tournament\", \"G-1 Champions League Season 5\", \"The Premier League Season 4\",\n",
    "    \"RaidCall EMS One Spring 2013\", \"RaidCall Dota 2 League Season 2\", \"The Defense 3\", \"G-League 2013\",\n",
    "    \"RaidCall Dota 2 League\", \"The Defense\"    \n",
    "]\n",
    "\n",
    "international_league_ids = [2733, 5401, 4664, 65006, 10749, 600, 9870, 65001]"
   ]
  },
  {
   "cell_type": "code",
   "execution_count": 4,
   "metadata": {},
   "outputs": [],
   "source": [
    "international_and_qualifiers = list()\n",
    "all_pro_leagues = list()\n",
    "\n",
    "# create an instance of the API class\n",
    "league_api = od_python.LeaguesApi()\n",
    "\n",
    "try:\n",
    "    api_response = league_api.leagues_get()\n",
    "    for entry in api_response:\n",
    "        if entry.name in premier_leagues:\n",
    "            international_and_qualifiers.append(entry.leagueid)\n",
    "        if entry.tier == \"premium\" or entry.tier == \"professional\":\n",
    "            all_pro_leagues.append(entry.leagueid)\n",
    "except ApiException as e:\n",
    "    print(\"Exception when calling LeaguesApi->leagues_get: %s\\n\" % e)\n"
   ]
  },
  {
   "cell_type": "markdown",
   "metadata": {},
   "source": [
    "## Notes on Getting League IDs\n",
    "* international_and_qualifiers contains all leagues that are \"premier\", or are most likely to mean a team qualifies for the international, or has a very large prize pool\n",
    "* all_pro_leagues contains all leagues that the API deems either \"professional\" or \"premium\" these are likely the most common leagues that people watch or pay money to watch"
   ]
  },
  {
   "cell_type": "code",
   "execution_count": 5,
   "metadata": {},
   "outputs": [],
   "source": [
    "def get_pro_matches(league_list):\n",
    "    relevant_matches = list()\n",
    "    pro_matches_api = od_python.ProMatchesApi()\n",
    "\n",
    "    # Highest Match_ID as of 11/11/2019 - 5108977506\n",
    "    match_id = 5108977506\n",
    "    counter = 0\n",
    "\n",
    "    while match_id > 17955123:\n",
    "        try:\n",
    "            if counter > 40:\n",
    "                time.sleep(90)\n",
    "                counter = 0\n",
    "            else:\n",
    "                api_response = pro_matches_api.pro_matches_get(less_than_match_id=match_id)\n",
    "                counter = counter + 1\n",
    "                for entry in api_response:\n",
    "                    if entry.leagueid in league_list:\n",
    "                        relevant_matches.append(entry.match_id)\n",
    "                    if entry.match_id < match_id:\n",
    "                        match_id = entry.match_id\n",
    "        except ApiException as e:\n",
    "            print(\"Exception when calling LeaguesApi->leagues_get: %s\\n\" % e)\n",
    "            match_id = 0\n",
    "            \n",
    "    return relevant_matches\n"
   ]
  },
  {
   "cell_type": "code",
   "execution_count": 6,
   "metadata": {},
   "outputs": [],
   "source": [
    "# Get Strictly matches that occur in International Tournaments\n",
    "inter_match_ids = get_pro_matches(international_league_ids)"
   ]
  },
  {
   "cell_type": "code",
   "execution_count": 10,
   "metadata": {},
   "outputs": [],
   "source": [
    "with open('international_matches.txt', 'a') as f:\n",
    "    for item in inter_match_ids:\n",
    "        f.write(\"%s\\n\" % item)"
   ]
  },
  {
   "cell_type": "code",
   "execution_count": 11,
   "metadata": {},
   "outputs": [],
   "source": [
    "# Get matches that occur in International Tournaments and Premier Tournaments\n",
    "time.sleep(90)\n",
    "premier_match_ids = get_pro_matches(international_and_qualifiers)"
   ]
  },
  {
   "cell_type": "code",
   "execution_count": 12,
   "metadata": {},
   "outputs": [],
   "source": [
    "with open('premier_matches.txt', 'a') as f:\n",
    "    for item in premier_match_ids:\n",
    "        f.write(\"%s\\n\" % item)"
   ]
  },
  {
   "cell_type": "code",
   "execution_count": 13,
   "metadata": {},
   "outputs": [],
   "source": [
    "# Get all matches that the API considers professional or premium\n",
    "time.sleep(90)\n",
    "pro_match_ids = get_pro_matches(all_pro_leagues)"
   ]
  },
  {
   "cell_type": "code",
   "execution_count": 14,
   "metadata": {},
   "outputs": [],
   "source": [
    "with open('pro_matches.txt', 'a') as f:\n",
    "    for item in pro_match_ids:\n",
    "        f.write(\"%s\\n\" % item)"
   ]
  }
 ],
 "metadata": {
  "kernelspec": {
   "display_name": "conda_python3",
   "language": "python",
   "name": "conda_python3"
  },
  "language_info": {
   "codemirror_mode": {
    "name": "ipython",
    "version": 3
   },
   "file_extension": ".py",
   "mimetype": "text/x-python",
   "name": "python",
   "nbconvert_exporter": "python",
   "pygments_lexer": "ipython3",
   "version": "3.6.5"
  }
 },
 "nbformat": 4,
 "nbformat_minor": 2
}
