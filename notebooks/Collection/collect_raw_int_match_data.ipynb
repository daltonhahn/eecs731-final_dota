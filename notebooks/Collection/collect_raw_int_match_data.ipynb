{
 "cells": [
  {
   "cell_type": "code",
   "execution_count": 1,
   "metadata": {},
   "outputs": [
    {
     "name": "stdout",
     "output_type": "stream",
     "text": [
      "Collecting git+https://github.com/seraphli/od-python.git\n",
      "  Cloning https://github.com/seraphli/od-python.git to /private/var/folders/v9/tlqyfws51hnd9ngvn5m0xz9w0000gn/T/pip-req-build-aztm_4lb\n",
      "  Running command git clone -q https://github.com/seraphli/od-python.git /private/var/folders/v9/tlqyfws51hnd9ngvn5m0xz9w0000gn/T/pip-req-build-aztm_4lb\n",
      "Requirement already satisfied (use --upgrade to upgrade): od-python==1.0.2 from git+https://github.com/seraphli/od-python.git in /usr/local/lib/python3.7/site-packages\n",
      "Requirement already satisfied: urllib3>=1.15 in /usr/local/lib/python3.7/site-packages (from od-python==1.0.2) (1.23)\n",
      "Requirement already satisfied: six>=1.10 in /usr/local/lib/python3.7/site-packages (from od-python==1.0.2) (1.11.0)\n",
      "Requirement already satisfied: certifi in /usr/local/lib/python3.7/site-packages (from od-python==1.0.2) (2018.11.29)\n",
      "Requirement already satisfied: python-dateutil in /usr/local/lib/python3.7/site-packages (from od-python==1.0.2) (2.7.3)\n",
      "Building wheels for collected packages: od-python\n",
      "  Building wheel for od-python (setup.py) ... \u001b[?25ldone\n",
      "\u001b[?25h  Stored in directory: /private/var/folders/v9/tlqyfws51hnd9ngvn5m0xz9w0000gn/T/pip-ephem-wheel-cache-ervpim91/wheels/96/a0/9d/73ecc0fedd17a4cb6134556ad3c0386645657647205cc7062e\n",
      "Successfully built od-python\n"
     ]
    }
   ],
   "source": [
    "!pip install git+https://github.com/seraphli/od-python.git"
   ]
  },
  {
   "cell_type": "code",
   "execution_count": 2,
   "metadata": {},
   "outputs": [],
   "source": [
    "from __future__ import print_function\n",
    "import time\n",
    "import od_python\n",
    "from od_python.rest import ApiException\n",
    "from pprint import pprint\n",
    "\n",
    "import warnings\n",
    "warnings.filterwarnings(\"ignore\")\n",
    "\n",
    "import pandas as pd\n",
    "import numpy as np\n",
    "import datetime as dt\n",
    "import seaborn as sns\n",
    "import matplotlib.pyplot as plt\n",
    "import math\n",
    "from statistics import mean, stdev\n",
    "import re"
   ]
  },
  {
   "cell_type": "code",
   "execution_count": 3,
   "metadata": {},
   "outputs": [],
   "source": [
    "int_ids = pd.read_csv(\"https://dota-match-ids.s3.amazonaws.com/international_matches.txt\", \n",
    "                         header=None, names=[\"match_id\"])"
   ]
  },
  {
   "cell_type": "code",
   "execution_count": 4,
   "metadata": {},
   "outputs": [
    {
     "data": {
      "text/html": [
       "<div>\n",
       "<style scoped>\n",
       "    .dataframe tbody tr th:only-of-type {\n",
       "        vertical-align: middle;\n",
       "    }\n",
       "\n",
       "    .dataframe tbody tr th {\n",
       "        vertical-align: top;\n",
       "    }\n",
       "\n",
       "    .dataframe thead th {\n",
       "        text-align: right;\n",
       "    }\n",
       "</style>\n",
       "<table border=\"1\" class=\"dataframe\">\n",
       "  <thead>\n",
       "    <tr style=\"text-align: right;\">\n",
       "      <th></th>\n",
       "      <th>match_id</th>\n",
       "    </tr>\n",
       "  </thead>\n",
       "  <tbody>\n",
       "    <tr>\n",
       "      <th>0</th>\n",
       "      <td>4986461644</td>\n",
       "    </tr>\n",
       "    <tr>\n",
       "      <th>1</th>\n",
       "      <td>4986362254</td>\n",
       "    </tr>\n",
       "    <tr>\n",
       "      <th>2</th>\n",
       "      <td>4986260666</td>\n",
       "    </tr>\n",
       "    <tr>\n",
       "      <th>3</th>\n",
       "      <td>4986133311</td>\n",
       "    </tr>\n",
       "    <tr>\n",
       "      <th>4</th>\n",
       "      <td>4985891168</td>\n",
       "    </tr>\n",
       "  </tbody>\n",
       "</table>\n",
       "</div>"
      ],
      "text/plain": [
       "     match_id\n",
       "0  4986461644\n",
       "1  4986362254\n",
       "2  4986260666\n",
       "3  4986133311\n",
       "4  4985891168"
      ]
     },
     "execution_count": 4,
     "metadata": {},
     "output_type": "execute_result"
    }
   ],
   "source": [
    "int_ids = int_ids[:1850]\n",
    "int_ids.head()"
   ]
  },
  {
   "cell_type": "code",
   "execution_count": 5,
   "metadata": {},
   "outputs": [],
   "source": [
    "def get_matches(match_list):\n",
    "    # TEAMFIGHTS AND PLAYER DATA NOT COLLECTED HERE\n",
    "    m_id = []\n",
    "    d_bar_stat = []\n",
    "    r_bar_stat = []\n",
    "    cluster = []\n",
    "    cosmet = []\n",
    "    d_score = []\n",
    "    draft_time = []\n",
    "    duration = []\n",
    "    eng = []\n",
    "    f_blood = []\n",
    "    g_mode = []\n",
    "    h_players = []\n",
    "    l_id = []\n",
    "    lob_type = []\n",
    "    match_seq_num = []\n",
    "    objectives = []\n",
    "    picks_bans = []\n",
    "    r_gold_adv = []\n",
    "    r_score = []\n",
    "    r_win = []\n",
    "    r_xp_adv = []\n",
    "    s_time = []\n",
    "    d_tow_stat = []\n",
    "    r_tow_stat = []\n",
    "    ver = []\n",
    "    s_id = []\n",
    "    s_type = []\n",
    "    r_team = []\n",
    "    d_team = []\n",
    "    league = []\n",
    "    skill = []\n",
    "    patch = []\n",
    "    region = []\n",
    "    throw = []\n",
    "    loss = []    \n",
    "\n",
    "    match_api = od_python.MatchesApi()\n",
    "    counter = 0\n",
    "\n",
    "    for match in match_list:\n",
    "        try:\n",
    "            if counter > 40:\n",
    "                time.sleep(90)\n",
    "                counter = 0\n",
    "                print(match)\n",
    "            \n",
    "            api_response = match_api.matches_match_id_get(match)\n",
    "            counter = counter + 1\n",
    "            m_id.append(api_response.match_id)\n",
    "            d_bar_stat.append(api_response.barracks_status_dire)\n",
    "            r_bar_stat.append(api_response.barracks_status_radiant)\n",
    "            cluster.append(api_response.cluster)\n",
    "            cosmet.append(api_response.cosmetics)\n",
    "            d_score.append(api_response.dire_score)\n",
    "            draft_time.append(api_response.draft_timings)\n",
    "            duration.append(api_response.duration)\n",
    "            eng.append(api_response.engine)\n",
    "            f_blood.append(api_response.first_blood_time)\n",
    "            g_mode.append(api_response.game_mode)\n",
    "            h_players.append(api_response.human_players)\n",
    "            l_id.append(api_response.leagueid)\n",
    "            lob_type.append(api_response.lobby_type)\n",
    "            match_seq_num.append(api_response.match_seq_num)\n",
    "            objectives.append(api_response.objectives)\n",
    "            picks_bans.append(api_response.picks_bans)\n",
    "            r_gold_adv.append(api_response.radiant_gold_adv)\n",
    "            r_score.append(api_response.radiant_score)\n",
    "            r_win.append(api_response.radiant_win)\n",
    "            r_xp_adv.append(api_response.radiant_xp_adv)\n",
    "            s_time.append(api_response.start_time)\n",
    "            d_tow_stat.append(api_response.tower_status_dire)\n",
    "            r_tow_stat.append(api_response.tower_status_radiant)\n",
    "            ver.append(api_response.version)\n",
    "            s_id.append(api_response.series_id)\n",
    "            s_type.append(api_response.series_type)\n",
    "            r_team.append(api_response.radiant_team)\n",
    "            d_team.append(api_response.dire_team)\n",
    "            league.append(api_response.league)\n",
    "            skill.append(api_response.skill)\n",
    "            patch.append(api_response.patch)\n",
    "            region.append(api_response.region)\n",
    "            throw.append(api_response.throw)\n",
    "            loss.append(api_response.loss)\n",
    "\n",
    "        except ApiException as e:\n",
    "            print(\"Exception when calling MatchesAPI->matches_get: %s\\n\" % e)\n",
    "            match_id = 0\n",
    "               \n",
    "    data_dict = {\n",
    "        \"match_id\": m_id, \"barracks_status_dire\":d_bar_stat, \"barracks_status_radiant\": r_bar_stat,\n",
    "        \"cluster\": cluster, \"cosmetics\": cosmet, \"dire_score\":d_score, \"draft_timings\": draft_time,\n",
    "        \"duration\": duration, \"engine\": eng, \"first_blood_time\": f_blood, \"game_mode\": g_mode,\n",
    "        \"human_players\": h_players, \"leagueid\": l_id, \"lobby_type\": lob_type, \"match_seq_num\": match_seq_num,\n",
    "        \"objectives\": objectives, \"picks_bans\": picks_bans, \"radiant_gold_adv\": r_gold_adv, \"radiant_score\": r_score,\n",
    "        \"radiant_win\": r_win, \"radiant_xp_adv\": r_xp_adv, \"start_time\": s_time, \"tower_status_dire\": d_tow_stat,\n",
    "        \"tower_status_radiant\": r_tow_stat, \"version\": ver, \"series_id\": s_id, \"series_type\": s_type, \n",
    "        \"radiant_team\": r_team, \"dire_team\": d_team, \"league\": league, \"skill\": skill, \"patch\": patch, \"region\": region,\n",
    "        \"throw\": throw, \"loss\": loss   \n",
    "    }\n",
    "    \n",
    "    return data_dict"
   ]
  },
  {
   "cell_type": "code",
   "execution_count": 6,
   "metadata": {},
   "outputs": [
    {
     "name": "stdout",
     "output_type": "stream",
     "text": [
      "4977501535\n",
      "4971535610\n",
      "4969661339\n",
      "4968053464\n",
      "4903051772\n",
      "4899849741\n",
      "4898062038\n",
      "4896322388\n",
      "4893101163\n",
      "4890741448\n",
      "4889163811\n",
      "4072772695\n",
      "4066505440\n",
      "4064706284\n",
      "4063131353\n",
      "3973246064\n",
      "3969720897\n",
      "3967535610\n",
      "3966411393\n",
      "3963622811\n",
      "3960583608\n",
      "3362609879\n",
      "3356203915\n",
      "3354219214\n",
      "3352383050\n",
      "3282193242\n",
      "3280219317\n",
      "3278794972\n",
      "3278171855\n",
      "3277502885\n",
      "3276779761\n",
      "3276246388\n",
      "3275686186\n",
      "3274564960\n",
      "2560226228\n",
      "2551023876\n",
      "2548908956\n",
      "2546940273\n",
      "2467636453\n",
      "2464976921\n",
      "2463564353\n",
      "2462617735\n",
      "2461015742\n",
      "1697367568\n",
      "1684419960\n"
     ]
    }
   ],
   "source": [
    "international_match_data = get_matches(int_ids[\"match_id\"])"
   ]
  },
  {
   "cell_type": "code",
   "execution_count": 7,
   "metadata": {},
   "outputs": [
    {
     "name": "stdout",
     "output_type": "stream",
     "text": [
      "(1850, 35)\n"
     ]
    }
   ],
   "source": [
    "df_int = pd.DataFrame(data=international_match_data)\n",
    "print(df_int.shape)"
   ]
  },
  {
   "cell_type": "code",
   "execution_count": 8,
   "metadata": {},
   "outputs": [
    {
     "name": "stdout",
     "output_type": "stream",
     "text": [
      "1670963917\n",
      "1666577877\n",
      "1663382647\n",
      "1513530162\n",
      "1510798517\n",
      "1505231162\n",
      "1501999998\n",
      "1499634771\n",
      "787453665\n",
      "772436958\n",
      "770545864\n",
      "767689193\n",
      "683782650\n",
      "677897149\n",
      "671625783\n",
      "666354546\n",
      "662504957\n",
      "658527044\n",
      "271008789\n",
      "264504100\n",
      "263526474\n",
      "262520933\n",
      "37590330\n",
      "36272031\n",
      "36058458\n",
      "35859818\n"
     ]
    }
   ],
   "source": [
    "int_ids = pd.read_csv(\"https://dota-match-ids.s3.amazonaws.com/international_matches.txt\", \n",
    "                         header=None, names=[\"match_id\"])\n",
    "int_ids = int_ids[1851:]\n",
    "international_match_data2 = get_matches(int_ids[\"match_id\"])"
   ]
  },
  {
   "cell_type": "code",
   "execution_count": 9,
   "metadata": {},
   "outputs": [
    {
     "name": "stdout",
     "output_type": "stream",
     "text": [
      "(1850, 35)\n",
      "(1090, 35)\n",
      "(2940, 35)\n"
     ]
    }
   ],
   "source": [
    "df_int2 = pd.DataFrame(data=international_match_data2)\n",
    "print(df_int.shape)\n",
    "print(df_int2.shape)\n",
    "df_int = df_int.append(df_int2)\n",
    "print(df_int.shape)"
   ]
  },
  {
   "cell_type": "code",
   "execution_count": 10,
   "metadata": {},
   "outputs": [],
   "source": [
    "df_int.to_csv(\"international_raw_match_full.csv\")\n",
    "df_int_1000 = df_int.sample(1000)\n",
    "df_int_1000.to_csv(\"international_raw_match_1000.csv\")\n",
    "df_int_100 = df_int.sample(100)\n",
    "df_int_100.to_csv(\"international_raw_match_100.csv\")"
   ]
  },
  {
   "cell_type": "markdown",
   "metadata": {},
   "source": [
    "# --------------------------------------------------------"
   ]
  }
 ],
 "metadata": {
  "kernelspec": {
   "display_name": "Python 3",
   "language": "python",
   "name": "python3"
  },
  "language_info": {
   "codemirror_mode": {
    "name": "ipython",
    "version": 3
   },
   "file_extension": ".py",
   "mimetype": "text/x-python",
   "name": "python",
   "nbconvert_exporter": "python",
   "pygments_lexer": "ipython3",
   "version": "3.7.4"
  }
 },
 "nbformat": 4,
 "nbformat_minor": 2
}
