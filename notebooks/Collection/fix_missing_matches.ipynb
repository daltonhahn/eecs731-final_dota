{
 "cells": [
  {
   "cell_type": "code",
   "execution_count": 1,
   "metadata": {},
   "outputs": [],
   "source": [
    "from __future__ import print_function\n",
    "\n",
    "import pandas as pd\n",
    "import time\n",
    "import od_python\n",
    "from od_python.rest import ApiException\n",
    "from pprint import pprint\n",
    "\n",
    "import warnings\n",
    "warnings.filterwarnings(\"ignore\")\n",
    "\n",
    "import numpy as np\n",
    "import datetime as dt\n",
    "import seaborn as sns\n",
    "import matplotlib.pyplot as plt\n",
    "import math\n",
    "from statistics import mean, stdev\n",
    "import re"
   ]
  },
  {
   "cell_type": "code",
   "execution_count": 2,
   "metadata": {},
   "outputs": [],
   "source": [
    "def get_matches(match_list):\n",
    "    # TEAMFIGHTS AND PLAYER DATA NOT COLLECTED HERE\n",
    "    m_id = []\n",
    "    d_bar_stat = []\n",
    "    r_bar_stat = []\n",
    "    cluster = []\n",
    "    cosmet = []\n",
    "    d_score = []\n",
    "    draft_time = []\n",
    "    duration = []\n",
    "    eng = []\n",
    "    f_blood = []\n",
    "    g_mode = []\n",
    "    h_players = []\n",
    "    l_id = []\n",
    "    lob_type = []\n",
    "    match_seq_num = []\n",
    "    objectives = []\n",
    "    picks_bans = []\n",
    "    r_gold_adv = []\n",
    "    r_score = []\n",
    "    r_win = []\n",
    "    r_xp_adv = []\n",
    "    s_time = []\n",
    "    d_tow_stat = []\n",
    "    r_tow_stat = []\n",
    "    ver = []\n",
    "    s_id = []\n",
    "    s_type = []\n",
    "    r_team = []\n",
    "    d_team = []\n",
    "    league = []\n",
    "    skill = []\n",
    "    patch = []\n",
    "    region = []\n",
    "    throw = []\n",
    "    loss = []    \n",
    "\n",
    "    match_api = od_python.MatchesApi()\n",
    "    counter = 0\n",
    "\n",
    "    for match in match_list:\n",
    "        try:\n",
    "            if counter > 40:\n",
    "                time.sleep(90)\n",
    "                counter = 0\n",
    "                print(match)\n",
    "            \n",
    "            api_response = match_api.matches_match_id_get(match)\n",
    "            counter = counter + 1\n",
    "            m_id.append(api_response.match_id)\n",
    "            d_bar_stat.append(api_response.barracks_status_dire)\n",
    "            r_bar_stat.append(api_response.barracks_status_radiant)\n",
    "            cluster.append(api_response.cluster)\n",
    "            cosmet.append(api_response.cosmetics)\n",
    "            d_score.append(api_response.dire_score)\n",
    "            draft_time.append(api_response.draft_timings)\n",
    "            duration.append(api_response.duration)\n",
    "            eng.append(api_response.engine)\n",
    "            f_blood.append(api_response.first_blood_time)\n",
    "            g_mode.append(api_response.game_mode)\n",
    "            h_players.append(api_response.human_players)\n",
    "            l_id.append(api_response.leagueid)\n",
    "            lob_type.append(api_response.lobby_type)\n",
    "            match_seq_num.append(api_response.match_seq_num)\n",
    "            objectives.append(api_response.objectives)\n",
    "            picks_bans.append(api_response.picks_bans)\n",
    "            r_gold_adv.append(api_response.radiant_gold_adv)\n",
    "            r_score.append(api_response.radiant_score)\n",
    "            r_win.append(api_response.radiant_win)\n",
    "            r_xp_adv.append(api_response.radiant_xp_adv)\n",
    "            s_time.append(api_response.start_time)\n",
    "            d_tow_stat.append(api_response.tower_status_dire)\n",
    "            r_tow_stat.append(api_response.tower_status_radiant)\n",
    "            ver.append(api_response.version)\n",
    "            s_id.append(api_response.series_id)\n",
    "            s_type.append(api_response.series_type)\n",
    "            r_team.append(api_response.radiant_team)\n",
    "            d_team.append(api_response.dire_team)\n",
    "            league.append(api_response.league)\n",
    "            skill.append(api_response.skill)\n",
    "            patch.append(api_response.patch)\n",
    "            region.append(api_response.region)\n",
    "            throw.append(api_response.throw)\n",
    "            loss.append(api_response.loss)\n",
    "\n",
    "        except ApiException as e:\n",
    "            print(\"Exception when calling MatchesAPI->matches_get: %s\\n\" % e)\n",
    "            match_id = 0\n",
    "               \n",
    "    data_dict = {\n",
    "        \"match_id\": m_id, \"barracks_status_dire\":d_bar_stat, \"barracks_status_radiant\": r_bar_stat,\n",
    "        \"cluster\": cluster, \"cosmetics\": cosmet, \"dire_score\":d_score, \"draft_timings\": draft_time,\n",
    "        \"duration\": duration, \"engine\": eng, \"first_blood_time\": f_blood, \"game_mode\": g_mode,\n",
    "        \"human_players\": h_players, \"leagueid\": l_id, \"lobby_type\": lob_type, \"match_seq_num\": match_seq_num,\n",
    "        \"objectives\": objectives, \"picks_bans\": picks_bans, \"radiant_gold_adv\": r_gold_adv, \"radiant_score\": r_score,\n",
    "        \"radiant_win\": r_win, \"radiant_xp_adv\": r_xp_adv, \"start_time\": s_time, \"tower_status_dire\": d_tow_stat,\n",
    "        \"tower_status_radiant\": r_tow_stat, \"version\": ver, \"series_id\": s_id, \"series_type\": s_type, \n",
    "        \"radiant_team\": r_team, \"dire_team\": d_team, \"league\": league, \"skill\": skill, \"patch\": patch, \"region\": region,\n",
    "        \"throw\": throw, \"loss\": loss   \n",
    "    }\n",
    "    \n",
    "    return data_dict"
   ]
  },
  {
   "cell_type": "markdown",
   "metadata": {},
   "source": [
    "# Fix Promatch Metadata"
   ]
  },
  {
   "cell_type": "markdown",
   "metadata": {},
   "source": [
    "### International Promatches"
   ]
  },
  {
   "cell_type": "code",
   "execution_count": 3,
   "metadata": {},
   "outputs": [
    {
     "name": "stdout",
     "output_type": "stream",
     "text": [
      "2941\n",
      "2941\n",
      "2941\n",
      "2941\n",
      "[]\n"
     ]
    }
   ],
   "source": [
    "# Read in promatch data file\n",
    "int_pro_match = pd.read_csv(\"https://dota-match-ids.s3.amazonaws.com/promatch_csvs/international_promatch_data.csv\")\n",
    "\n",
    "# Read in promatch match_ids file\n",
    "int_pro_match_ids = pd.read_csv(\"https://dota-match-ids.s3.amazonaws.com/match_ids/international_matches.txt\",\n",
    "                           names=[\"match_id\"])\n",
    "\n",
    "\n",
    "\n",
    "print(len(int_pro_match[\"match_id\"]))\n",
    "unique_ids = int_pro_match[\"match_id\"]\n",
    "print(len(unique_ids.unique()))\n",
    "print(len(int_pro_match_ids))\n",
    "unique_match_ids = int_pro_match_ids[\"match_id\"]\n",
    "print(len(unique_match_ids))\n",
    "print(list(set(unique_match_ids) - set(unique_ids)))\n",
    "\n",
    "\n",
    "\n",
    "\n",
    "## NO MISSING PROMATCH DATA\n"
   ]
  },
  {
   "cell_type": "markdown",
   "metadata": {},
   "source": [
    "### Premier Promatches"
   ]
  },
  {
   "cell_type": "code",
   "execution_count": 4,
   "metadata": {},
   "outputs": [
    {
     "name": "stdout",
     "output_type": "stream",
     "text": [
      "17622\n",
      "17622\n",
      "17622\n",
      "17622\n",
      "[]\n"
     ]
    }
   ],
   "source": [
    "# Read in promatch data file\n",
    "prem_pro_match = pd.read_csv(\"https://dota-match-ids.s3.amazonaws.com/promatch_csvs/premier_promatch_data.csv\")\n",
    "\n",
    "# Read in promatch match_ids file\n",
    "prem_pro_match_ids = pd.read_csv(\"https://dota-match-ids.s3.amazonaws.com/match_ids/premier_matches.txt\",\n",
    "                           names=[\"match_id\"])\n",
    "\n",
    "\n",
    "\n",
    "print(len(prem_pro_match[\"match_id\"]))\n",
    "unique_ids = prem_pro_match[\"match_id\"]\n",
    "print(len(unique_ids.unique()))\n",
    "print(len(prem_pro_match_ids))\n",
    "unique_match_ids = prem_pro_match_ids[\"match_id\"]\n",
    "print(len(unique_match_ids))\n",
    "print(list(set(unique_match_ids) - set(unique_ids)))\n",
    "\n",
    "\n",
    "\n",
    "\n",
    "## NO MISSING PROMATCH DATA\n"
   ]
  },
  {
   "cell_type": "markdown",
   "metadata": {},
   "source": [
    "### Professional Promatches"
   ]
  },
  {
   "cell_type": "code",
   "execution_count": 5,
   "metadata": {},
   "outputs": [
    {
     "name": "stdout",
     "output_type": "stream",
     "text": [
      "74339\n",
      "74339\n",
      "74339\n",
      "74339\n",
      "[]\n"
     ]
    }
   ],
   "source": [
    "# Read in promatch data file\n",
    "prof_pro_match = pd.read_csv(\"https://dota-match-ids.s3.amazonaws.com/promatch_csvs/professional_promatch_data.csv\")\n",
    "\n",
    "# Read in promatch match_ids file\n",
    "prof_pro_match_ids = pd.read_csv(\"https://dota-match-ids.s3.amazonaws.com/match_ids/pro_matches.txt\",\n",
    "                           names=[\"match_id\"])\n",
    "\n",
    "\n",
    "\n",
    "print(len(prof_pro_match[\"match_id\"]))\n",
    "unique_ids = prof_pro_match[\"match_id\"]\n",
    "print(len(unique_ids.unique()))\n",
    "print(len(prof_pro_match_ids))\n",
    "unique_match_ids = prof_pro_match_ids[\"match_id\"]\n",
    "print(len(unique_match_ids))\n",
    "print(list(set(unique_match_ids) - set(unique_ids)))\n",
    "\n",
    "\n",
    "\n",
    "\n",
    "## NO MISSING PROMATCH DATA\n"
   ]
  },
  {
   "cell_type": "markdown",
   "metadata": {},
   "source": [
    "# Fix Raw Match Data"
   ]
  },
  {
   "cell_type": "markdown",
   "metadata": {},
   "source": [
    "### International Match Data"
   ]
  },
  {
   "cell_type": "code",
   "execution_count": 6,
   "metadata": {},
   "outputs": [
    {
     "name": "stdout",
     "output_type": "stream",
     "text": [
      "2941\n",
      "2941\n",
      "2941\n",
      "2941\n",
      "[]\n"
     ]
    }
   ],
   "source": [
    "int_raw_match = pd.read_csv(\"https://dota-match-ids.s3.amazonaws.com/raw_match_csvs/international_raw_match_full.csv\")\n",
    "\n",
    "int_pro_match_ids = pd.read_csv(\"https://dota-match-ids.s3.amazonaws.com/match_ids/international_matches.txt\",\n",
    "                           names=[\"match_id\"])\n",
    "\n",
    "print(len(int_raw_match[\"match_id\"]))\n",
    "unique_ids = int_raw_match[\"match_id\"]\n",
    "print(len(unique_ids.unique()))\n",
    "print(len(int_pro_match_ids))\n",
    "unique_match_ids = int_pro_match_ids[\"match_id\"]\n",
    "print(len(unique_match_ids))\n",
    "print(list(set(unique_match_ids) - set(unique_ids)))\n",
    "missing_entries = list(set(unique_match_ids) - set(unique_ids))\n",
    "\n",
    "## SINGLE ID MISSING FROM INTERNATIONAL MATCH DATA COLLECTION - 1673865688"
   ]
  },
  {
   "cell_type": "markdown",
   "metadata": {},
   "source": [
    "#### FIX DATASET BY APPENDING MISSING ENTRIES"
   ]
  },
  {
   "cell_type": "code",
   "execution_count": 7,
   "metadata": {},
   "outputs": [],
   "source": [
    "int_raw_missing = get_matches(missing_entries)\n",
    "df_int_missing = pd.DataFrame(data = int_raw_missing)\n",
    "int_raw_match = int_raw_match.append(df_int_missing)\n",
    "\n",
    "int_raw_match.to_csv(\"international_raw_match_full.csv\")\n",
    "int_raw_match_1000 = int_raw_match.sample(1000)\n",
    "int_raw_match_1000.to_csv(\"international_raw_match_1000.csv\")\n",
    "int_raw_match_100 = int_raw_match.sample(100)\n",
    "int_raw_match_100.to_csv(\"international_raw_match_100.csv\")\n"
   ]
  },
  {
   "cell_type": "markdown",
   "metadata": {},
   "source": [
    "### Premier Match Data"
   ]
  },
  {
   "cell_type": "code",
   "execution_count": 8,
   "metadata": {},
   "outputs": [
    {
     "name": "stdout",
     "output_type": "stream",
     "text": [
      "17622\n",
      "17622\n",
      "17622\n",
      "17622\n",
      "[]\n"
     ]
    }
   ],
   "source": [
    "# Read in promatch data file\n",
    "prem_raw_match = pd.read_csv(\"https://dota-match-ids.s3.amazonaws.com/raw_match_csvs/premier_raw_match_full.csv\")\n",
    "\n",
    "# Read in promatch match_ids file\n",
    "prem_raw_match_ids = pd.read_csv(\"https://dota-match-ids.s3.amazonaws.com/match_ids/premier_matches.txt\",\n",
    "                           names=[\"match_id\"])\n",
    "\n",
    "\n",
    "\n",
    "print(len(prem_raw_match[\"match_id\"]))\n",
    "unique_ids = prem_raw_match[\"match_id\"]\n",
    "print(len(unique_ids.unique()))\n",
    "print(len(prem_raw_match_ids))\n",
    "unique_match_ids = prem_raw_match_ids[\"match_id\"]\n",
    "print(len(unique_match_ids))\n",
    "print(list(set(unique_match_ids) - set(unique_ids)))\n",
    "missing_entries = list(set(unique_match_ids) - set(unique_ids))"
   ]
  },
  {
   "cell_type": "markdown",
   "metadata": {},
   "source": [
    "#### FIX DATASET BY APPENDING MISSING ENTRIES"
   ]
  },
  {
   "cell_type": "code",
   "execution_count": 9,
   "metadata": {},
   "outputs": [],
   "source": [
    "prem_raw_missing = get_matches(missing_entries)\n",
    "df_prem_missing = pd.DataFrame(data = prem_raw_missing)\n",
    "prem_raw_match = prem_raw_match.append(df_prem_missing)\n",
    "\n",
    "prem_raw_match.to_csv(\"premier_raw_match_full.csv\")\n",
    "prem_raw_match_1000 = prem_raw_match.sample(1000)\n",
    "prem_raw_match_1000.to_csv(\"premier_raw_match_1000.csv\")\n",
    "prem_raw_match_100 = prem_raw_match.sample(100)\n",
    "prem_raw_match_100.to_csv(\"premier_raw_match_100.csv\")\n"
   ]
  },
  {
   "cell_type": "markdown",
   "metadata": {},
   "source": [
    "### Professional Match Data"
   ]
  },
  {
   "cell_type": "code",
   "execution_count": 10,
   "metadata": {},
   "outputs": [
    {
     "name": "stdout",
     "output_type": "stream",
     "text": [
      "(74339, 40)\n"
     ]
    }
   ],
   "source": [
    "# Read in promatch data file\n",
    "prof_raw_match = pd.read_csv(\"https://dota-match-ids.s3.amazonaws.com/raw_match_csvs/professional_raw_match_full.csv\")\n",
    "\n",
    "# Read in promatch match_ids file\n",
    "#prof_raw_match_ids = pd.read_csv(\"https://dota-match-ids.s3.amazonaws.com/match_ids/professional_matches.txt\",\n",
    "#                           names=[\"match_id\"])\n",
    "\n",
    "print(prof_raw_match.shape)"
   ]
  },
  {
   "cell_type": "code",
   "execution_count": 11,
   "metadata": {},
   "outputs": [
    {
     "name": "stdout",
     "output_type": "stream",
     "text": [
      "74339\n",
      "74339\n",
      "74339\n",
      "74339\n",
      "[]\n"
     ]
    }
   ],
   "source": [
    "# Read in promatch data file\n",
    "prof_raw_match = pd.read_csv(\"https://dota-match-ids.s3.amazonaws.com/raw_match_csvs/professional_raw_match_full.csv\")\n",
    "\n",
    "# Read in promatch match_ids file\n",
    "prof_raw_match_ids = pd.read_csv(\"https://dota-match-ids.s3.amazonaws.com/match_ids/pro_matches.txt\",\n",
    "                           names=[\"match_id\"])\n",
    "\n",
    "\n",
    "\n",
    "print(len(prof_raw_match[\"match_id\"]))\n",
    "unique_ids = prof_raw_match[\"match_id\"]\n",
    "print(len(unique_ids.unique()))\n",
    "print(len(prof_raw_match_ids))\n",
    "unique_match_ids = prof_raw_match_ids[\"match_id\"]\n",
    "print(len(unique_match_ids))\n",
    "print(list(set(unique_match_ids) - set(unique_ids)))\n",
    "missing_entries = list(set(unique_match_ids) - set(unique_ids))\n",
    "\n",
    "## ____ IDs MISSING FROM PREMIER MATCH DATA COLLECTION"
   ]
  },
  {
   "cell_type": "markdown",
   "metadata": {},
   "source": [
    "#### FIX DATASET BY APPENDING MISSING ENTRIES"
   ]
  },
  {
   "cell_type": "code",
   "execution_count": 12,
   "metadata": {},
   "outputs": [],
   "source": [
    "prof_raw_missing = get_matches(missing_entries)\n",
    "df_prof_missing = pd.DataFrame(data = prof_raw_missing)\n",
    "prof_raw_match = prof_raw_match.append(df_prof_missing)\n",
    "\n",
    "prof_raw_match.to_csv(\"professional_raw_match_full.csv\")\n",
    "prof_raw_match_1000 = prof_raw_match.sample(1000)\n",
    "prof_raw_match_1000.to_csv(\"professional_raw_match_1000.csv\")\n",
    "prof_raw_match_100 = prof_raw_match.sample(100)\n",
    "prof_raw_match_100.to_csv(\"professional_raw_match_100.csv\")\n"
   ]
  },
  {
   "cell_type": "code",
   "execution_count": null,
   "metadata": {},
   "outputs": [],
   "source": []
  }
 ],
 "metadata": {
  "kernelspec": {
   "display_name": "Python 3",
   "language": "python",
   "name": "python3"
  },
  "language_info": {
   "codemirror_mode": {
    "name": "ipython",
    "version": 3
   },
   "file_extension": ".py",
   "mimetype": "text/x-python",
   "name": "python",
   "nbconvert_exporter": "python",
   "pygments_lexer": "ipython3",
   "version": "3.7.4"
  }
 },
 "nbformat": 4,
 "nbformat_minor": 2
}
