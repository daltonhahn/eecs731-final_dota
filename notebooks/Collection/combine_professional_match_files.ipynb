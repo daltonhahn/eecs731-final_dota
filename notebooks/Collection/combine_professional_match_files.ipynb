{
 "cells": [
  {
   "cell_type": "code",
   "execution_count": 1,
   "metadata": {},
   "outputs": [],
   "source": [
    "from __future__ import print_function\n",
    "\n",
    "import pandas as pd\n",
    "import time\n",
    "import od_python\n",
    "from od_python.rest import ApiException\n",
    "from pprint import pprint\n",
    "\n",
    "import warnings\n",
    "warnings.filterwarnings(\"ignore\")\n",
    "\n",
    "import numpy as np\n",
    "import datetime as dt\n",
    "import seaborn as sns\n",
    "import matplotlib.pyplot as plt\n",
    "import math\n",
    "from statistics import mean, stdev\n",
    "import re"
   ]
  },
  {
   "cell_type": "code",
   "execution_count": 3,
   "metadata": {},
   "outputs": [
    {
     "name": "stdout",
     "output_type": "stream",
     "text": [
      "(32639, 36)\n",
      "(18004, 36)\n"
     ]
    }
   ],
   "source": [
    "# Read in promatch data file\n",
    "prof_raw_match_half1 = pd.read_csv(\"professional_raw_match_first_half_full.csv\")\n",
    "prof_raw_match_half2 = pd.read_csv(\"professional_raw_match_second_half_full.csv\")\n",
    "\n",
    "# Read in promatch match_ids file\n",
    "#prof_raw_match_ids = pd.read_csv(\"https://dota-match-ids.s3.amazonaws.com/match_ids/professional_matches.txt\",\n",
    "#                           names=[\"match_id\"])\n",
    "\n",
    "print(prof_raw_match_half1.shape)\n",
    "print(prof_raw_match_half2.shape)"
   ]
  },
  {
   "cell_type": "code",
   "execution_count": 4,
   "metadata": {},
   "outputs": [],
   "source": [
    "prof_raw_match = prof_raw_match_half1.append(prof_raw_match_half2)\n",
    "\n",
    "prof_raw_match.to_csv(\"professional_raw_match_full.csv\")\n",
    "prof_raw_match_1000 = prof_raw_match.sample(1000)\n",
    "prof_raw_match_1000.to_csv(\"professional_raw_match_1000.csv\")\n",
    "prof_raw_match_100 = prof_raw_match.sample(100)\n",
    "prof_raw_match_100.to_csv(\"professional_raw_match_100.csv\")"
   ]
  },
  {
   "cell_type": "code",
   "execution_count": null,
   "metadata": {},
   "outputs": [],
   "source": []
  }
 ],
 "metadata": {
  "kernelspec": {
   "display_name": "Python 3",
   "language": "python",
   "name": "python3"
  },
  "language_info": {
   "codemirror_mode": {
    "name": "ipython",
    "version": 3
   },
   "file_extension": ".py",
   "mimetype": "text/x-python",
   "name": "python",
   "nbconvert_exporter": "python",
   "pygments_lexer": "ipython3",
   "version": "3.7.4"
  }
 },
 "nbformat": 4,
 "nbformat_minor": 2
}
