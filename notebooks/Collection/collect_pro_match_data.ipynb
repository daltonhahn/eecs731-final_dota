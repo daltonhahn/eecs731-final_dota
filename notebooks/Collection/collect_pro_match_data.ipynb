{
 "cells": [
  {
   "cell_type": "code",
   "execution_count": 1,
   "metadata": {},
   "outputs": [
    {
     "name": "stdout",
     "output_type": "stream",
     "text": [
      "Collecting git+https://github.com/seraphli/od-python.git\n",
      "  Cloning https://github.com/seraphli/od-python.git to /tmp/pip-req-build-aaycg0mt\n",
      "Requirement already satisfied (use --upgrade to upgrade): od-python==1.0.2 from git+https://github.com/seraphli/od-python.git in /home/ec2-user/anaconda3/envs/python3/lib/python3.6/site-packages\n",
      "Requirement already satisfied: urllib3>=1.15 in /home/ec2-user/anaconda3/envs/python3/lib/python3.6/site-packages (from od-python==1.0.2) (1.23)\n",
      "Requirement already satisfied: six>=1.10 in /home/ec2-user/anaconda3/envs/python3/lib/python3.6/site-packages (from od-python==1.0.2) (1.11.0)\n",
      "Requirement already satisfied: certifi in /home/ec2-user/anaconda3/envs/python3/lib/python3.6/site-packages (from od-python==1.0.2) (2019.6.16)\n",
      "Requirement already satisfied: python-dateutil in /home/ec2-user/anaconda3/envs/python3/lib/python3.6/site-packages (from od-python==1.0.2) (2.7.3)\n",
      "Building wheels for collected packages: od-python\n",
      "  Running setup.py bdist_wheel for od-python ... \u001b[?25ldone\n",
      "\u001b[?25h  Stored in directory: /tmp/pip-ephem-wheel-cache-6in4__j0/wheels/96/a0/9d/73ecc0fedd17a4cb6134556ad3c0386645657647205cc7062e\n",
      "Successfully built od-python\n",
      "\u001b[33mYou are using pip version 10.0.1, however version 19.3.1 is available.\n",
      "You should consider upgrading via the 'pip install --upgrade pip' command.\u001b[0m\n"
     ]
    }
   ],
   "source": [
    "!pip install git+https://github.com/seraphli/od-python.git"
   ]
  },
  {
   "cell_type": "code",
   "execution_count": 2,
   "metadata": {},
   "outputs": [],
   "source": [
    "from __future__ import print_function\n",
    "import time\n",
    "import od_python\n",
    "from od_python.rest import ApiException\n",
    "from pprint import pprint\n",
    "\n",
    "import warnings\n",
    "warnings.filterwarnings(\"ignore\")\n",
    "\n",
    "import pandas as pd\n",
    "import numpy as np\n",
    "import datetime as dt\n",
    "import seaborn as sns\n",
    "import matplotlib.pyplot as plt\n",
    "import math\n",
    "from statistics import mean, stdev\n",
    "import re"
   ]
  },
  {
   "cell_type": "code",
   "execution_count": 3,
   "metadata": {},
   "outputs": [],
   "source": [
    "int_ids = pd.read_csv(\"https://dota-match-ids.s3.amazonaws.com/international_matches.txt\", \n",
    "                         header=None, names=[\"match_id\"])"
   ]
  },
  {
   "cell_type": "code",
   "execution_count": 4,
   "metadata": {},
   "outputs": [
    {
     "data": {
      "text/html": [
       "<div>\n",
       "<style scoped>\n",
       "    .dataframe tbody tr th:only-of-type {\n",
       "        vertical-align: middle;\n",
       "    }\n",
       "\n",
       "    .dataframe tbody tr th {\n",
       "        vertical-align: top;\n",
       "    }\n",
       "\n",
       "    .dataframe thead th {\n",
       "        text-align: right;\n",
       "    }\n",
       "</style>\n",
       "<table border=\"1\" class=\"dataframe\">\n",
       "  <thead>\n",
       "    <tr style=\"text-align: right;\">\n",
       "      <th></th>\n",
       "      <th>match_id</th>\n",
       "    </tr>\n",
       "  </thead>\n",
       "  <tbody>\n",
       "    <tr>\n",
       "      <th>0</th>\n",
       "      <td>4986461644</td>\n",
       "    </tr>\n",
       "    <tr>\n",
       "      <th>1</th>\n",
       "      <td>4986362254</td>\n",
       "    </tr>\n",
       "    <tr>\n",
       "      <th>2</th>\n",
       "      <td>4986260666</td>\n",
       "    </tr>\n",
       "    <tr>\n",
       "      <th>3</th>\n",
       "      <td>4986133311</td>\n",
       "    </tr>\n",
       "    <tr>\n",
       "      <th>4</th>\n",
       "      <td>4985891168</td>\n",
       "    </tr>\n",
       "  </tbody>\n",
       "</table>\n",
       "</div>"
      ],
      "text/plain": [
       "     match_id\n",
       "0  4986461644\n",
       "1  4986362254\n",
       "2  4986260666\n",
       "3  4986133311\n",
       "4  4985891168"
      ]
     },
     "execution_count": 4,
     "metadata": {},
     "output_type": "execute_result"
    }
   ],
   "source": [
    "int_ids.head()"
   ]
  },
  {
   "cell_type": "code",
   "execution_count": 5,
   "metadata": {},
   "outputs": [],
   "source": [
    "prem_ids = pd.read_csv(\"https://dota-match-ids.s3.amazonaws.com/premier_matches.txt\", \n",
    "                         header=None, names=[\"match_id\"])"
   ]
  },
  {
   "cell_type": "code",
   "execution_count": 6,
   "metadata": {},
   "outputs": [
    {
     "data": {
      "text/html": [
       "<div>\n",
       "<style scoped>\n",
       "    .dataframe tbody tr th:only-of-type {\n",
       "        vertical-align: middle;\n",
       "    }\n",
       "\n",
       "    .dataframe tbody tr th {\n",
       "        vertical-align: top;\n",
       "    }\n",
       "\n",
       "    .dataframe thead th {\n",
       "        text-align: right;\n",
       "    }\n",
       "</style>\n",
       "<table border=\"1\" class=\"dataframe\">\n",
       "  <thead>\n",
       "    <tr style=\"text-align: right;\">\n",
       "      <th></th>\n",
       "      <th>match_id</th>\n",
       "    </tr>\n",
       "  </thead>\n",
       "  <tbody>\n",
       "    <tr>\n",
       "      <th>0</th>\n",
       "      <td>4986461644</td>\n",
       "    </tr>\n",
       "    <tr>\n",
       "      <th>1</th>\n",
       "      <td>4986362254</td>\n",
       "    </tr>\n",
       "    <tr>\n",
       "      <th>2</th>\n",
       "      <td>4986260666</td>\n",
       "    </tr>\n",
       "    <tr>\n",
       "      <th>3</th>\n",
       "      <td>4986133311</td>\n",
       "    </tr>\n",
       "    <tr>\n",
       "      <th>4</th>\n",
       "      <td>4985891168</td>\n",
       "    </tr>\n",
       "  </tbody>\n",
       "</table>\n",
       "</div>"
      ],
      "text/plain": [
       "     match_id\n",
       "0  4986461644\n",
       "1  4986362254\n",
       "2  4986260666\n",
       "3  4986133311\n",
       "4  4985891168"
      ]
     },
     "execution_count": 6,
     "metadata": {},
     "output_type": "execute_result"
    }
   ],
   "source": [
    "prem_ids.head()"
   ]
  },
  {
   "cell_type": "code",
   "execution_count": 7,
   "metadata": {},
   "outputs": [],
   "source": [
    "pro_ids = pd.read_csv(\"https://dota-match-ids.s3.amazonaws.com/pro_matches.txt\", \n",
    "                         header=None, names=[\"match_id\"])"
   ]
  },
  {
   "cell_type": "code",
   "execution_count": 8,
   "metadata": {},
   "outputs": [
    {
     "data": {
      "text/html": [
       "<div>\n",
       "<style scoped>\n",
       "    .dataframe tbody tr th:only-of-type {\n",
       "        vertical-align: middle;\n",
       "    }\n",
       "\n",
       "    .dataframe tbody tr th {\n",
       "        vertical-align: top;\n",
       "    }\n",
       "\n",
       "    .dataframe thead th {\n",
       "        text-align: right;\n",
       "    }\n",
       "</style>\n",
       "<table border=\"1\" class=\"dataframe\">\n",
       "  <thead>\n",
       "    <tr style=\"text-align: right;\">\n",
       "      <th></th>\n",
       "      <th>match_id</th>\n",
       "    </tr>\n",
       "  </thead>\n",
       "  <tbody>\n",
       "    <tr>\n",
       "      <th>0</th>\n",
       "      <td>5108885702</td>\n",
       "    </tr>\n",
       "    <tr>\n",
       "      <th>1</th>\n",
       "      <td>5108800438</td>\n",
       "    </tr>\n",
       "    <tr>\n",
       "      <th>2</th>\n",
       "      <td>5108735167</td>\n",
       "    </tr>\n",
       "    <tr>\n",
       "      <th>3</th>\n",
       "      <td>5108711156</td>\n",
       "    </tr>\n",
       "    <tr>\n",
       "      <th>4</th>\n",
       "      <td>5108703089</td>\n",
       "    </tr>\n",
       "  </tbody>\n",
       "</table>\n",
       "</div>"
      ],
      "text/plain": [
       "     match_id\n",
       "0  5108885702\n",
       "1  5108800438\n",
       "2  5108735167\n",
       "3  5108711156\n",
       "4  5108703089"
      ]
     },
     "execution_count": 8,
     "metadata": {},
     "output_type": "execute_result"
    }
   ],
   "source": [
    "pro_ids.head()"
   ]
  },
  {
   "cell_type": "code",
   "execution_count": 9,
   "metadata": {},
   "outputs": [],
   "source": [
    "def get_pro_matches(match_list):\n",
    "    m_ids = []\n",
    "    durations = []\n",
    "    s_times = []\n",
    "    r_t_id = []\n",
    "    r_name = []\n",
    "    d_t_id = []\n",
    "    d_name = []\n",
    "    l_id = []\n",
    "    l_name = []\n",
    "    s_id = []\n",
    "    s_type = []\n",
    "    r_score = []\n",
    "    d_score = []\n",
    "    r_win = []\n",
    "\n",
    "    pro_matches_api = od_python.ProMatchesApi()\n",
    "\n",
    "    # Highest Match_ID as of 11/11/2019 - 5108977506\n",
    "    match_id = 5108977506\n",
    "    counter = 0\n",
    "\n",
    "    while match_id > 17955123:\n",
    "        try:\n",
    "            if counter > 40:\n",
    "                time.sleep(90)\n",
    "                counter = 0\n",
    "                print(match_id)\n",
    "            else:\n",
    "                api_response = pro_matches_api.pro_matches_get(less_than_match_id=match_id)\n",
    "                counter = counter + 1\n",
    "                for entry in api_response:\n",
    "                    if entry.match_id in set(match_list):\n",
    "                        m_ids.append(entry.match_id)\n",
    "                        durations.append(entry.duration)\n",
    "                        s_times.append(entry.start_time)\n",
    "                        r_t_id.append(entry.radiant_team_id)\n",
    "                        r_name.append(entry.radiant_name)\n",
    "                        d_t_id.append(entry.dire_team_id)\n",
    "                        d_name.append(entry.dire_name)\n",
    "                        l_id.append(entry.leagueid)\n",
    "                        l_name.append(entry.league_name)\n",
    "                        s_id.append(entry.series_id)\n",
    "                        s_type.append(entry.series_type)\n",
    "                        r_score.append(entry.radiant_score)\n",
    "                        d_score.append(entry.dire_score)\n",
    "                        r_win.append(entry.radiant_win)\n",
    "                    if entry.match_id < match_id:\n",
    "                        match_id = entry.match_id\n",
    "        except ApiException as e:\n",
    "            print(\"Exception when calling LeaguesApi->leagues_get: %s\\n\" % e)\n",
    "            match_id = 0\n",
    "               \n",
    "    data_dict = {\n",
    "        \"match_id\": m_ids, 'duration': durations, \"start_time\": s_times, \"radiant_team_id\": r_t_id,\n",
    "        \"radiant_name\": r_name, \"dire_team_id\": d_t_id, \"dire_name\": d_name, \"leagueid\": l_id,\n",
    "        \"league_name\": l_name, \"series_id\": s_id, \"series_type\": s_type, \"radiant_score\": r_score,\n",
    "        \"dire_score\": d_score, \"radiant_win\": r_win\n",
    "    }\n",
    "    \n",
    "    return data_dict"
   ]
  },
  {
   "cell_type": "code",
   "execution_count": 10,
   "metadata": {},
   "outputs": [
    {
     "name": "stdout",
     "output_type": "stream",
     "text": [
      "4998064081\n",
      "4766080271\n",
      "4486993446\n",
      "4212332727\n",
      "3851000926\n",
      "3567692495\n",
      "3252995512\n",
      "2975314149\n",
      "2670502591\n",
      "2370369922\n",
      "2035002016\n",
      "1689526977\n",
      "1376354000\n",
      "1100147939\n",
      "891604751\n",
      "683504655\n",
      "426688355\n",
      "193154007\n"
     ]
    }
   ],
   "source": [
    "international_promatch_data = get_pro_matches(int_ids[\"match_id\"])"
   ]
  },
  {
   "cell_type": "code",
   "execution_count": 11,
   "metadata": {},
   "outputs": [
    {
     "data": {
      "text/html": [
       "<div>\n",
       "<style scoped>\n",
       "    .dataframe tbody tr th:only-of-type {\n",
       "        vertical-align: middle;\n",
       "    }\n",
       "\n",
       "    .dataframe tbody tr th {\n",
       "        vertical-align: top;\n",
       "    }\n",
       "\n",
       "    .dataframe thead th {\n",
       "        text-align: right;\n",
       "    }\n",
       "</style>\n",
       "<table border=\"1\" class=\"dataframe\">\n",
       "  <thead>\n",
       "    <tr style=\"text-align: right;\">\n",
       "      <th></th>\n",
       "      <th>match_id</th>\n",
       "      <th>duration</th>\n",
       "      <th>start_time</th>\n",
       "      <th>radiant_team_id</th>\n",
       "      <th>radiant_name</th>\n",
       "      <th>dire_team_id</th>\n",
       "      <th>dire_name</th>\n",
       "      <th>leagueid</th>\n",
       "      <th>league_name</th>\n",
       "      <th>series_id</th>\n",
       "      <th>series_type</th>\n",
       "      <th>radiant_score</th>\n",
       "      <th>dire_score</th>\n",
       "      <th>radiant_win</th>\n",
       "    </tr>\n",
       "  </thead>\n",
       "  <tbody>\n",
       "    <tr>\n",
       "      <th>0</th>\n",
       "      <td>4986461644</td>\n",
       "      <td>1474</td>\n",
       "      <td>1566733817</td>\n",
       "      <td>2586976.0</td>\n",
       "      <td>OG</td>\n",
       "      <td>2163.0</td>\n",
       "      <td>Team Liquid</td>\n",
       "      <td>10749</td>\n",
       "      <td>The International 2019</td>\n",
       "      <td>360940.0</td>\n",
       "      <td>2.0</td>\n",
       "      <td>20</td>\n",
       "      <td>11</td>\n",
       "      <td>True</td>\n",
       "    </tr>\n",
       "    <tr>\n",
       "      <th>1</th>\n",
       "      <td>4986362254</td>\n",
       "      <td>1403</td>\n",
       "      <td>1566730459</td>\n",
       "      <td>2163.0</td>\n",
       "      <td>Team Liquid</td>\n",
       "      <td>2586976.0</td>\n",
       "      <td>OG</td>\n",
       "      <td>10749</td>\n",
       "      <td>The International 2019</td>\n",
       "      <td>360940.0</td>\n",
       "      <td>2.0</td>\n",
       "      <td>11</td>\n",
       "      <td>36</td>\n",
       "      <td>False</td>\n",
       "    </tr>\n",
       "    <tr>\n",
       "      <th>2</th>\n",
       "      <td>4986260666</td>\n",
       "      <td>1945</td>\n",
       "      <td>1566726706</td>\n",
       "      <td>2163.0</td>\n",
       "      <td>Team Liquid</td>\n",
       "      <td>2586976.0</td>\n",
       "      <td>OG</td>\n",
       "      <td>10749</td>\n",
       "      <td>The International 2019</td>\n",
       "      <td>360940.0</td>\n",
       "      <td>2.0</td>\n",
       "      <td>11</td>\n",
       "      <td>40</td>\n",
       "      <td>False</td>\n",
       "    </tr>\n",
       "    <tr>\n",
       "      <th>3</th>\n",
       "      <td>4986133311</td>\n",
       "      <td>2914</td>\n",
       "      <td>1566721992</td>\n",
       "      <td>2163.0</td>\n",
       "      <td>Team Liquid</td>\n",
       "      <td>2586976.0</td>\n",
       "      <td>OG</td>\n",
       "      <td>10749</td>\n",
       "      <td>The International 2019</td>\n",
       "      <td>360940.0</td>\n",
       "      <td>2.0</td>\n",
       "      <td>33</td>\n",
       "      <td>24</td>\n",
       "      <td>True</td>\n",
       "    </tr>\n",
       "    <tr>\n",
       "      <th>4</th>\n",
       "      <td>4985891168</td>\n",
       "      <td>2194</td>\n",
       "      <td>1566713543</td>\n",
       "      <td>15.0</td>\n",
       "      <td>PSG.LGD</td>\n",
       "      <td>2163.0</td>\n",
       "      <td>Team Liquid</td>\n",
       "      <td>10749</td>\n",
       "      <td>The International 2019</td>\n",
       "      <td>360881.0</td>\n",
       "      <td>1.0</td>\n",
       "      <td>8</td>\n",
       "      <td>30</td>\n",
       "      <td>False</td>\n",
       "    </tr>\n",
       "  </tbody>\n",
       "</table>\n",
       "</div>"
      ],
      "text/plain": [
       "     match_id  duration  start_time  radiant_team_id radiant_name  \\\n",
       "0  4986461644      1474  1566733817        2586976.0           OG   \n",
       "1  4986362254      1403  1566730459           2163.0  Team Liquid   \n",
       "2  4986260666      1945  1566726706           2163.0  Team Liquid   \n",
       "3  4986133311      2914  1566721992           2163.0  Team Liquid   \n",
       "4  4985891168      2194  1566713543             15.0      PSG.LGD   \n",
       "\n",
       "   dire_team_id    dire_name  leagueid             league_name  series_id  \\\n",
       "0        2163.0  Team Liquid     10749  The International 2019   360940.0   \n",
       "1     2586976.0           OG     10749  The International 2019   360940.0   \n",
       "2     2586976.0           OG     10749  The International 2019   360940.0   \n",
       "3     2586976.0           OG     10749  The International 2019   360940.0   \n",
       "4        2163.0  Team Liquid     10749  The International 2019   360881.0   \n",
       "\n",
       "   series_type  radiant_score  dire_score  radiant_win  \n",
       "0          2.0             20          11         True  \n",
       "1          2.0             11          36        False  \n",
       "2          2.0             11          40        False  \n",
       "3          2.0             33          24         True  \n",
       "4          1.0              8          30        False  "
      ]
     },
     "execution_count": 11,
     "metadata": {},
     "output_type": "execute_result"
    }
   ],
   "source": [
    "df_int = pd.DataFrame(data=international_promatch_data)\n",
    "df_int.head()"
   ]
  },
  {
   "cell_type": "code",
   "execution_count": 12,
   "metadata": {},
   "outputs": [],
   "source": [
    "df_int.to_csv(\"international_promatch_data.csv\")"
   ]
  },
  {
   "cell_type": "markdown",
   "metadata": {},
   "source": [
    "# --------------------------------------------"
   ]
  },
  {
   "cell_type": "code",
   "execution_count": null,
   "metadata": {},
   "outputs": [
    {
     "name": "stdout",
     "output_type": "stream",
     "text": [
      "4998064081\n",
      "4766080271\n"
     ]
    }
   ],
   "source": [
    "prem_promatch_data = get_pro_matches(prem_ids[\"match_id\"])"
   ]
  },
  {
   "cell_type": "code",
   "execution_count": null,
   "metadata": {},
   "outputs": [],
   "source": [
    "df_prem = pd.DataFrame(data=prem_promatch_data)\n",
    "df_prem.head()"
   ]
  },
  {
   "cell_type": "code",
   "execution_count": null,
   "metadata": {},
   "outputs": [],
   "source": [
    "df_prem.to_csv(\"premier_promatch_data.csv\")"
   ]
  },
  {
   "cell_type": "markdown",
   "metadata": {},
   "source": [
    "# --------------------------------------------"
   ]
  },
  {
   "cell_type": "code",
   "execution_count": null,
   "metadata": {},
   "outputs": [],
   "source": [
    "prof_promatch_data = get_pro_matches(pro_ids[\"match_id\"])"
   ]
  },
  {
   "cell_type": "code",
   "execution_count": null,
   "metadata": {},
   "outputs": [],
   "source": [
    "df_prof = pd.DataFrame(data=prof_promatch_data)\n",
    "df_prof.head()"
   ]
  },
  {
   "cell_type": "code",
   "execution_count": null,
   "metadata": {},
   "outputs": [],
   "source": [
    "df_prof.to_csv(\"professional_promatch_data.csv\")"
   ]
  }
 ],
 "metadata": {
  "kernelspec": {
   "display_name": "conda_python3",
   "language": "python",
   "name": "conda_python3"
  },
  "language_info": {
   "codemirror_mode": {
    "name": "ipython",
    "version": 3
   },
   "file_extension": ".py",
   "mimetype": "text/x-python",
   "name": "python",
   "nbconvert_exporter": "python",
   "pygments_lexer": "ipython3",
   "version": "3.6.5"
  }
 },
 "nbformat": 4,
 "nbformat_minor": 2
}
