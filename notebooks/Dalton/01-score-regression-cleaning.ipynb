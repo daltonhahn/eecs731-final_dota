{
 "cells": [
  {
   "cell_type": "markdown",
   "metadata": {},
   "source": [
    "# Dota 2 - Regression Analysis\n",
    "\n",
    "* Trying to predict the total score of two teams based full match data"
   ]
  },
  {
   "cell_type": "code",
   "execution_count": 1,
   "metadata": {},
   "outputs": [],
   "source": [
    "# API IMPORTS\n",
    "from __future__ import print_function\n",
    "import time\n",
    "from pprint import pprint\n",
    "import json\n",
    "import ast\n",
    "\n",
    "# BASIC IMPORTS\n",
    "import warnings\n",
    "warnings.filterwarnings(\"ignore\")\n",
    "import pandas as pd\n",
    "import numpy as np\n",
    "import datetime as dt\n",
    "import seaborn as sns\n",
    "import matplotlib.pyplot as plt\n",
    "from math import sqrt\n",
    "from statistics import mean, stdev"
   ]
  },
  {
   "cell_type": "markdown",
   "metadata": {},
   "source": [
    "### Data Dropping and Cleaning\n",
    "\n",
    "* Removing all columns except for team scores and draft information"
   ]
  },
  {
   "cell_type": "code",
   "execution_count": 2,
   "metadata": {},
   "outputs": [],
   "source": [
    "def drop_bulk(df):\n",
    "    df = df.drop(axis=1, columns=['Unnamed: 0', 'Unnamed: 0.1', 'barracks_status_dire', 'barracks_status_radiant',\n",
    "                                         'cluster', 'cosmetics', 'duration', 'radiant_xp_adv', 'region', 'series_id',\n",
    "                                         'series_type', 'skill', 'start_time', 'throw', 'tower_status_dire', \n",
    "                                         'tower_status_radiant', 'version', 'engine', 'first_blood_time', 'game_mode',\n",
    "                                         'league', 'leagueid', 'lobby_type', 'loss', 'match_id', 'match_seq_num', \n",
    "                                         'objectives', 'patch', 'draft_timings', 'dire_team', 'radiant_gold_adv',\n",
    "                                         'radiant_team', 'radiant_win'])\n",
    "    df = df.dropna(axis=0)\n",
    "    return df"
   ]
  },
  {
   "cell_type": "code",
   "execution_count": 3,
   "metadata": {},
   "outputs": [],
   "source": [
    "def create_total(df):\n",
    "    df[\"total_score\"] = df[\"dire_score\"] + df[\"radiant_score\"]\n",
    "    return df"
   ]
  },
  {
   "cell_type": "code",
   "execution_count": 4,
   "metadata": {},
   "outputs": [],
   "source": [
    "def drop_bots(df):\n",
    "    # Dropping rows that have a total score of 0 (extremely unlikely scenario, arguably impossible)\n",
    "    # Dropping rows that do not have 10 human players participating \n",
    "    #    (means bots are playing and we do not want these included)\n",
    "\n",
    "    df = df[df.total_score != 0]\n",
    "    df = df[df.human_players == 10]\n",
    "    return df"
   ]
  },
  {
   "cell_type": "markdown",
   "metadata": {},
   "source": [
    "## Want to collect all \"picks\" from this data structure and have a list of their ids as a column"
   ]
  },
  {
   "cell_type": "code",
   "execution_count": 5,
   "metadata": {},
   "outputs": [],
   "source": [
    "def collect_picks(row):\n",
    "    picks = []\n",
    "    json_string = row[\"picks_bans\"]\n",
    "    json_string = ast.literal_eval(json_string.replace(\"'\",'\"'))\n",
    "    data = json.loads(json.dumps(json_string))\n",
    "    picks = [data[v]['hero_id'] for v in range(len(data)) if data[v]['is_pick'] == True]\n",
    "    return picks"
   ]
  },
  {
   "cell_type": "code",
   "execution_count": 6,
   "metadata": {},
   "outputs": [],
   "source": [
    "def picks_wrapper(df):\n",
    "\n",
    "    heroes_lists = []\n",
    "\n",
    "    for index,row in df.iterrows():\n",
    "        row = row.copy()\n",
    "        picks = collect_picks(row)\n",
    "        heroes_lists.append(picks)\n",
    "        \n",
    "        \n",
    "    df['heroes'] = heroes_lists\n",
    "    df = df.drop(axis=1, columns=['picks_bans'])\n",
    "    \n",
    "    return df"
   ]
  },
  {
   "cell_type": "markdown",
   "metadata": {},
   "source": [
    "## Dropping original score columns, human players column and separating out heroes list into 10 columns"
   ]
  },
  {
   "cell_type": "code",
   "execution_count": 7,
   "metadata": {},
   "outputs": [],
   "source": [
    "def columnize_heroes(df):\n",
    "    df = df.drop(axis=1, columns=['dire_score', 'human_players', 'radiant_score'])\n",
    "    df[['h1','h2','h3','h4','h5','h6','h7','h8','h9','h10']] = pd.DataFrame(df.heroes.values.tolist(), \n",
    "                                                                                index= df.index)\n",
    "    df = df.drop(axis=1, columns=['heroes'])\n",
    "\n",
    "    return df"
   ]
  },
  {
   "cell_type": "code",
   "execution_count": 8,
   "metadata": {},
   "outputs": [],
   "source": [
    "def clean(df):\n",
    "    print(df.shape)\n",
    "    # Call other functions\n",
    "    df = drop_bulk(df)\n",
    "    df = create_total(df)\n",
    "    df = drop_bots(df)\n",
    "    df = picks_wrapper(df)\n",
    "    df = columnize_heroes(df)\n",
    "    print(df.shape)\n",
    "    return df"
   ]
  },
  {
   "cell_type": "code",
   "execution_count": 9,
   "metadata": {},
   "outputs": [
    {
     "name": "stdout",
     "output_type": "stream",
     "text": [
      "(2941, 37)\n",
      "(1797, 11)\n"
     ]
    }
   ],
   "source": [
    "df_int = pd.read_csv(\"https://dota-match-ids.s3.amazonaws.com/raw_match_csvs/international_raw_match_full.csv\")\n",
    "df_int = clean(df_int)\n",
    "df_int.to_csv(\"../../data/processed/Dalton/reg_int_full.csv\")"
   ]
  },
  {
   "cell_type": "code",
   "execution_count": 10,
   "metadata": {},
   "outputs": [
    {
     "name": "stdout",
     "output_type": "stream",
     "text": [
      "(17622, 37)\n",
      "(9485, 11)\n"
     ]
    }
   ],
   "source": [
    "df_prem = pd.read_csv(\"https://dota-match-ids.s3.amazonaws.com/raw_match_csvs/premier_raw_match_full.csv\")\n",
    "df_prem = clean(df_prem)\n",
    "df_prem.to_csv(\"../../data/processed/Dalton/reg_prem_full.csv\")"
   ]
  },
  {
   "cell_type": "code",
   "execution_count": 11,
   "metadata": {},
   "outputs": [
    {
     "name": "stdout",
     "output_type": "stream",
     "text": [
      "(74339, 40)\n",
      "(39606, 14)\n"
     ]
    }
   ],
   "source": [
    "df_prof = pd.read_csv(\"https://dota-match-ids.s3.amazonaws.com/raw_match_csvs/professional_raw_match_full.csv\")\n",
    "df_prof = clean(df_prof)\n",
    "df_prof.to_csv(\"../../data/processed/Dalton/reg_prof_full.csv\")"
   ]
  },
  {
   "cell_type": "code",
   "execution_count": null,
   "metadata": {},
   "outputs": [],
   "source": []
  }
 ],
 "metadata": {
  "kernelspec": {
   "display_name": "conda_python3",
   "language": "python",
   "name": "conda_python3"
  },
  "language_info": {
   "codemirror_mode": {
    "name": "ipython",
    "version": 3
   },
   "file_extension": ".py",
   "mimetype": "text/x-python",
   "name": "python",
   "nbconvert_exporter": "python",
   "pygments_lexer": "ipython3",
   "version": "3.6.9"
  }
 },
 "nbformat": 4,
 "nbformat_minor": 2
}
